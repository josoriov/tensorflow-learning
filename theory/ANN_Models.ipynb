{
  "nbformat": 4,
  "nbformat_minor": 0,
  "metadata": {
    "colab": {
      "name": "ANN Models.ipynb",
      "provenance": []
    },
    "kernelspec": {
      "name": "python3",
      "display_name": "Python 3"
    }
  },
  "cells": [
    {
      "cell_type": "code",
      "metadata": {
        "id": "tnyHLy-TYUZg"
      },
      "source": [
        "import numpy as np\r\n",
        "import pandas as pd\r\n",
        "import matplotlib.pyplot as plt\r\n",
        "import tensorflow as tf"
      ],
      "execution_count": 1,
      "outputs": []
    },
    {
      "cell_type": "code",
      "metadata": {
        "id": "v8C7m8PwYofd"
      },
      "source": [
        "mnist = tf.keras.datasets.mnist"
      ],
      "execution_count": 2,
      "outputs": []
    },
    {
      "cell_type": "code",
      "metadata": {
        "id": "58Wc6oHyY_yz",
        "colab": {
          "base_uri": "https://localhost:8080/"
        },
        "outputId": "3ca275e9-1a29-410b-8d12-11b164e4b7bf"
      },
      "source": [
        "(X_train, y_train), (X_test, y_test) = mnist.load_data()"
      ],
      "execution_count": 3,
      "outputs": [
        {
          "output_type": "stream",
          "text": [
            "Downloading data from https://storage.googleapis.com/tensorflow/tf-keras-datasets/mnist.npz\n",
            "11493376/11490434 [==============================] - 0s 0us/step\n"
          ],
          "name": "stdout"
        }
      ]
    },
    {
      "cell_type": "code",
      "metadata": {
        "id": "eWPSFG3DotEy"
      },
      "source": [
        "# Scale the data for X_train and X_test\r\n",
        "X_train, X_test = X_train/255.0, X_test/255.0"
      ],
      "execution_count": 4,
      "outputs": []
    },
    {
      "cell_type": "markdown",
      "metadata": {
        "id": "dUppRT1NYgSn"
      },
      "source": [
        "# ANN for classification"
      ]
    },
    {
      "cell_type": "code",
      "metadata": {
        "id": "eRf-UzivqgzY"
      },
      "source": [
        "model_classification = tf.keras.models.Sequential([\r\n",
        "    tf.keras.layers.Flatten(input_shape=(28,28)),\r\n",
        "    tf.keras.layers.Dense(128, activation='relu'),\r\n",
        "    tf.keras.layers.Dropout(0.2),\r\n",
        "    tf.keras.layers.Dense(10, activation='softmax')\r\n",
        "])"
      ],
      "execution_count": 7,
      "outputs": []
    },
    {
      "cell_type": "code",
      "metadata": {
        "colab": {
          "base_uri": "https://localhost:8080/"
        },
        "id": "_mJuSEBnv72J",
        "outputId": "f9aefdef-7f1e-4fd4-9c74-afcf3587cbc5"
      },
      "source": [
        "model_classification.summary()"
      ],
      "execution_count": 8,
      "outputs": [
        {
          "output_type": "stream",
          "text": [
            "Model: \"sequential\"\n",
            "_________________________________________________________________\n",
            "Layer (type)                 Output Shape              Param #   \n",
            "=================================================================\n",
            "flatten (Flatten)            (None, 784)               0         \n",
            "_________________________________________________________________\n",
            "dense (Dense)                (None, 128)               100480    \n",
            "_________________________________________________________________\n",
            "dropout (Dropout)            (None, 128)               0         \n",
            "_________________________________________________________________\n",
            "dense_1 (Dense)              (None, 10)                1290      \n",
            "=================================================================\n",
            "Total params: 101,770\n",
            "Trainable params: 101,770\n",
            "Non-trainable params: 0\n",
            "_________________________________________________________________\n"
          ],
          "name": "stdout"
        }
      ]
    },
    {
      "cell_type": "code",
      "metadata": {
        "id": "Ol3bk8zpwAMy"
      },
      "source": [
        "model_classification.compile(\r\n",
        "    optimizer='adam',\r\n",
        "    loss='sparse_categorical_crossentropy',\r\n",
        "    metrics=['accuracy']\r\n",
        ")"
      ],
      "execution_count": 11,
      "outputs": []
    },
    {
      "cell_type": "code",
      "metadata": {
        "colab": {
          "base_uri": "https://localhost:8080/"
        },
        "id": "nehgp_-9wNmh",
        "outputId": "d5c287cb-f3c7-491c-9c28-7f00876823ce"
      },
      "source": [
        "fit_classification = model_classification.fit(\r\n",
        "    x=X_train,\r\n",
        "    y=y_train,\r\n",
        "    validation_data=(X_test, y_test),\r\n",
        "    epochs=15\r\n",
        ")"
      ],
      "execution_count": 12,
      "outputs": [
        {
          "output_type": "stream",
          "text": [
            "Epoch 1/15\n",
            "1875/1875 [==============================] - 5s 2ms/step - loss: 0.4812 - accuracy: 0.8592 - val_loss: 0.1428 - val_accuracy: 0.9573\n",
            "Epoch 2/15\n",
            "1875/1875 [==============================] - 4s 2ms/step - loss: 0.1480 - accuracy: 0.9559 - val_loss: 0.0996 - val_accuracy: 0.9710\n",
            "Epoch 3/15\n",
            "1875/1875 [==============================] - 4s 2ms/step - loss: 0.1102 - accuracy: 0.9668 - val_loss: 0.0843 - val_accuracy: 0.9740\n",
            "Epoch 4/15\n",
            "1875/1875 [==============================] - 4s 2ms/step - loss: 0.0870 - accuracy: 0.9734 - val_loss: 0.0740 - val_accuracy: 0.9781\n",
            "Epoch 5/15\n",
            "1875/1875 [==============================] - 4s 2ms/step - loss: 0.0753 - accuracy: 0.9770 - val_loss: 0.0746 - val_accuracy: 0.9781\n",
            "Epoch 6/15\n",
            "1875/1875 [==============================] - 4s 2ms/step - loss: 0.0658 - accuracy: 0.9789 - val_loss: 0.0694 - val_accuracy: 0.9789\n",
            "Epoch 7/15\n",
            "1875/1875 [==============================] - 4s 2ms/step - loss: 0.0546 - accuracy: 0.9820 - val_loss: 0.0690 - val_accuracy: 0.9784\n",
            "Epoch 8/15\n",
            "1875/1875 [==============================] - 4s 2ms/step - loss: 0.0514 - accuracy: 0.9837 - val_loss: 0.0737 - val_accuracy: 0.9806\n",
            "Epoch 9/15\n",
            "1875/1875 [==============================] - 4s 2ms/step - loss: 0.0482 - accuracy: 0.9847 - val_loss: 0.0716 - val_accuracy: 0.9803\n",
            "Epoch 10/15\n",
            "1875/1875 [==============================] - 4s 2ms/step - loss: 0.0441 - accuracy: 0.9861 - val_loss: 0.0668 - val_accuracy: 0.9797\n",
            "Epoch 11/15\n",
            "1875/1875 [==============================] - 4s 2ms/step - loss: 0.0381 - accuracy: 0.9876 - val_loss: 0.0778 - val_accuracy: 0.9787\n",
            "Epoch 12/15\n",
            "1875/1875 [==============================] - 4s 2ms/step - loss: 0.0390 - accuracy: 0.9862 - val_loss: 0.0672 - val_accuracy: 0.9821\n",
            "Epoch 13/15\n",
            "1875/1875 [==============================] - 4s 2ms/step - loss: 0.0344 - accuracy: 0.9885 - val_loss: 0.0728 - val_accuracy: 0.9800\n",
            "Epoch 14/15\n",
            "1875/1875 [==============================] - 4s 2ms/step - loss: 0.0337 - accuracy: 0.9887 - val_loss: 0.0717 - val_accuracy: 0.9812\n",
            "Epoch 15/15\n",
            "1875/1875 [==============================] - 4s 2ms/step - loss: 0.0318 - accuracy: 0.9892 - val_loss: 0.0737 - val_accuracy: 0.9805\n"
          ],
          "name": "stdout"
        }
      ]
    },
    {
      "cell_type": "code",
      "metadata": {
        "colab": {
          "base_uri": "https://localhost:8080/",
          "height": 282
        },
        "id": "8cwlBORvwoyl",
        "outputId": "62eb01a2-10cf-49a5-a23c-eea6862c0b92"
      },
      "source": [
        "plt.plot(fit_classification.history['loss'], label='loss')\r\n",
        "plt.plot(fit_classification.history['val_loss'], label='val_loss')\r\n",
        "plt.legend()"
      ],
      "execution_count": 13,
      "outputs": [
        {
          "output_type": "execute_result",
          "data": {
            "text/plain": [
              "<matplotlib.legend.Legend at 0x7fde8d4cad50>"
            ]
          },
          "metadata": {
            "tags": []
          },
          "execution_count": 13
        },
        {
          "output_type": "display_data",
          "data": {
            "image/png": "[encoded data removed]",
            "text/plain": [
              "<Figure size 432x288 with 1 Axes>"
            ]
          },
          "metadata": {
            "tags": [],
            "needs_background": "light"
          }
        }
      ]
    },
    {
      "cell_type": "code",
      "metadata": {
        "colab": {
          "base_uri": "https://localhost:8080/",
          "height": 282
        },
        "id": "ST7W-67uw7DP",
        "outputId": "5c8a0de2-71c2-4f02-da04-842b0489eb36"
      },
      "source": [
        "plt.plot(fit_classification.history['accuracy'], label='accuracy')\r\n",
        "plt.plot(fit_classification.history['val_accuracy'], label='val_accuracy')\r\n",
        "plt.legend()"
      ],
      "execution_count": 14,
      "outputs": [
        {
          "output_type": "execute_result",
          "data": {
            "text/plain": [
              "<matplotlib.legend.Legend at 0x7fde8c9abb90>"
            ]
          },
          "metadata": {
            "tags": []
          },
          "execution_count": 14
        },
        {
          "output_type": "display_data",
          "data": {
            "image/png": "[encoded data removed]",
            "text/plain": [
              "<Figure size 432x288 with 1 Axes>"
            ]
          },
          "metadata": {
            "tags": [],
            "needs_background": "light"
          }
        }
      ]
    },
    {
      "cell_type": "code",
      "metadata": {
        "id": "Gc-H0NApYfYL"
      },
      "source": [
        "# Perhaps plot some of the missclassified numbers"
      ],
      "execution_count": null,
      "outputs": []
    },
    {
      "cell_type": "markdown",
      "metadata": {
        "id": "YJyVLNRbYjrx"
      },
      "source": [
        "# ANN for regression"
      ]
    },
    {
      "cell_type": "markdown",
      "metadata": {
        "id": "xFAvCjwarT_m"
      },
      "source": [
        "The synthetic data used to train the neural networks has the form.\r\n",
        "\r\n",
        "$$y = cos(2x_{1}) + cos(3x_{2})$$"
      ]
    },
    {
      "cell_type": "code",
      "metadata": {
        "id": "RYr0uDWvYlYB"
      },
      "source": [
        "# Make the data set\r\n",
        "N = 10000\r\n",
        "X = np.random.random((N, 2)) * 6 - 3\r\n",
        "y = np.cos(2*X[:,0]) + np.cos(3*X[:,1])"
      ],
      "execution_count": 5,
      "outputs": []
    },
    {
      "cell_type": "code",
      "metadata": {
        "id": "HJUVTLrlZnZY"
      },
      "source": [
        " # Create model\r\n",
        " # dens (128) and Dense (1) as output with relu\r\n",
        " # Create adam optimizer with learning rate 0.01\r\n",
        " # Compile the model with loss mse\r\n",
        " # Fot the model and save the fit object\r\n",
        " # plot the loss by epoch\r\n",
        " # Perhaps plot the prediction surface"
      ],
      "execution_count": null,
      "outputs": []
    }
  ]
}