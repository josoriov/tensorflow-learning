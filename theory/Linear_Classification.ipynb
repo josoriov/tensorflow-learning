{
  "nbformat": 4,
  "nbformat_minor": 0,
  "metadata": {
    "colab": {
      "name": "Linear Classification.ipynb",
      "provenance": [],
      "collapsed_sections": [
        "y7N72rNIRrTJ"
      ]
    },
    "kernelspec": {
      "name": "python3",
      "display_name": "Python 3"
    }
  },
  "cells": [
    {
      "cell_type": "code",
      "metadata": {
        "id": "9Vt1ccCNqP6i"
      },
      "source": [
        "import numpy as np\r\n",
        "import pandas as pd\r\n",
        "import tensorflow as tf\r\n",
        "import matplotlib.pyplot as plt"
      ],
      "execution_count": 1,
      "outputs": []
    },
    {
      "cell_type": "code",
      "metadata": {
        "id": "UPWfo1syqhkD"
      },
      "source": [
        "from sklearn.datasets import load_breast_cancer\r\n",
        "from sklearn.model_selection import train_test_split\r\n",
        "from sklearn.preprocessing import StandardScaler"
      ],
      "execution_count": 2,
      "outputs": []
    },
    {
      "cell_type": "markdown",
      "metadata": {
        "id": "y7N72rNIRrTJ"
      },
      "source": [
        "## First example\r\n",
        "\r\n",
        "Linear binary classification"
      ]
    },
    {
      "cell_type": "code",
      "metadata": {
        "id": "8QmCWy05qizk"
      },
      "source": [
        "data_raw = load_breast_cancer()"
      ],
      "execution_count": null,
      "outputs": []
    },
    {
      "cell_type": "code",
      "metadata": {
        "colab": {
          "base_uri": "https://localhost:8080/"
        },
        "id": "lhLYNBR5rSFM",
        "outputId": "85cfe41b-511a-45e6-f611-a77356934a04"
      },
      "source": [
        "data_raw.feature_names"
      ],
      "execution_count": null,
      "outputs": [
        {
          "output_type": "execute_result",
          "data": {
            "text/plain": [
              "array(['mean radius', 'mean texture', 'mean perimeter', 'mean area',\n",
              "       'mean smoothness', 'mean compactness', 'mean concavity',\n",
              "       'mean concave points', 'mean symmetry', 'mean fractal dimension',\n",
              "       'radius error', 'texture error', 'perimeter error', 'area error',\n",
              "       'smoothness error', 'compactness error', 'concavity error',\n",
              "       'concave points error', 'symmetry error',\n",
              "       'fractal dimension error', 'worst radius', 'worst texture',\n",
              "       'worst perimeter', 'worst area', 'worst smoothness',\n",
              "       'worst compactness', 'worst concavity', 'worst concave points',\n",
              "       'worst symmetry', 'worst fractal dimension'], dtype='<U23')"
            ]
          },
          "metadata": {
            "tags": []
          },
          "execution_count": 5
        }
      ]
    },
    {
      "cell_type": "code",
      "metadata": {
        "colab": {
          "base_uri": "https://localhost:8080/"
        },
        "id": "5x4v9Ovzq7vT",
        "outputId": "fe8cbb38-e664-4766-a634-50b162488a6d"
      },
      "source": [
        "data_raw.target_names"
      ],
      "execution_count": null,
      "outputs": [
        {
          "output_type": "execute_result",
          "data": {
            "text/plain": [
              "array(['malignant', 'benign'], dtype='<U9')"
            ]
          },
          "metadata": {
            "tags": []
          },
          "execution_count": 6
        }
      ]
    },
    {
      "cell_type": "code",
      "metadata": {
        "id": "-jN9vwl1q4g2"
      },
      "source": [
        "X = data_raw.data\r\n",
        "y = data_raw.target"
      ],
      "execution_count": null,
      "outputs": []
    },
    {
      "cell_type": "code",
      "metadata": {
        "id": "g_K58hoAra8f"
      },
      "source": [
        "X_train, X_test, y_train, y_test = train_test_split(X, y, test_size=0.3, random_state=10)"
      ],
      "execution_count": null,
      "outputs": []
    },
    {
      "cell_type": "code",
      "metadata": {
        "id": "WFEEEX3HtFmV"
      },
      "source": [
        "rows, cols = X_train.shape"
      ],
      "execution_count": null,
      "outputs": []
    },
    {
      "cell_type": "code",
      "metadata": {
        "id": "OnPS3bh0tLFF"
      },
      "source": [
        "scaler = StandardScaler()\r\n",
        "\r\n",
        "scaler.fit(X_train)\r\n",
        "\r\n",
        "X_train = scaler.transform(X_train)\r\n",
        "X_test = scaler.transform(X_test)"
      ],
      "execution_count": null,
      "outputs": []
    },
    {
      "cell_type": "code",
      "metadata": {
        "id": "-RT9s1F_tfdc"
      },
      "source": [
        "model = tf.keras.models.Sequential([\r\n",
        "    tf.keras.layers.Input(shape=(cols,)),\r\n",
        "    tf.keras.layers.Dense(1, activation='sigmoid')\r\n",
        "])"
      ],
      "execution_count": null,
      "outputs": []
    },
    {
      "cell_type": "code",
      "metadata": {
        "id": "m716Z1BUuK9P"
      },
      "source": [
        "model.compile(\r\n",
        "    optimizer='adam',\r\n",
        "    loss='binary_crossentropy',\r\n",
        "    metrics=['accuracy']\r\n",
        ")"
      ],
      "execution_count": null,
      "outputs": []
    },
    {
      "cell_type": "code",
      "metadata": {
        "colab": {
          "base_uri": "https://localhost:8080/"
        },
        "id": "k4y7WgdKuI4g",
        "outputId": "2e830d61-a7a9-4305-9629-daf4be9d5602"
      },
      "source": [
        "model.summary()"
      ],
      "execution_count": null,
      "outputs": [
        {
          "output_type": "stream",
          "text": [
            "Model: \"sequential\"\n",
            "_________________________________________________________________\n",
            "Layer (type)                 Output Shape              Param #   \n",
            "=================================================================\n",
            "dense (Dense)                (None, 1)                 31        \n",
            "=================================================================\n",
            "Total params: 31\n",
            "Trainable params: 31\n",
            "Non-trainable params: 0\n",
            "_________________________________________________________________\n"
          ],
          "name": "stdout"
        }
      ]
    },
    {
      "cell_type": "code",
      "metadata": {
        "colab": {
          "base_uri": "https://localhost:8080/"
        },
        "id": "1Tk9GjZcuaEp",
        "outputId": "f8e907ce-690b-4b63-8734-1a3edfff97dd"
      },
      "source": [
        "fit_object = model.fit(\r\n",
        "    x=X_train, y=y_train,\r\n",
        "    validation_data=(X_test, y_test),\r\n",
        "    epochs=20\r\n",
        ")"
      ],
      "execution_count": null,
      "outputs": [
        {
          "output_type": "stream",
          "text": [
            "Epoch 1/20\n",
            "13/13 [==============================] - 1s 21ms/step - loss: 0.5623 - accuracy: 0.7240 - val_loss: 0.4631 - val_accuracy: 0.8363\n",
            "Epoch 2/20\n",
            "13/13 [==============================] - 0s 6ms/step - loss: 0.4869 - accuracy: 0.8159 - val_loss: 0.4182 - val_accuracy: 0.8655\n",
            "Epoch 3/20\n",
            "13/13 [==============================] - 0s 5ms/step - loss: 0.4179 - accuracy: 0.8754 - val_loss: 0.3815 - val_accuracy: 0.8830\n",
            "Epoch 4/20\n",
            "13/13 [==============================] - 0s 5ms/step - loss: 0.4112 - accuracy: 0.8700 - val_loss: 0.3515 - val_accuracy: 0.8830\n",
            "Epoch 5/20\n",
            "13/13 [==============================] - 0s 5ms/step - loss: 0.3681 - accuracy: 0.9007 - val_loss: 0.3261 - val_accuracy: 0.9006\n",
            "Epoch 6/20\n",
            "13/13 [==============================] - 0s 5ms/step - loss: 0.3441 - accuracy: 0.9097 - val_loss: 0.3048 - val_accuracy: 0.9006\n",
            "Epoch 7/20\n",
            "13/13 [==============================] - 0s 5ms/step - loss: 0.3284 - accuracy: 0.9170 - val_loss: 0.2869 - val_accuracy: 0.9123\n",
            "Epoch 8/20\n",
            "13/13 [==============================] - 0s 5ms/step - loss: 0.2958 - accuracy: 0.9267 - val_loss: 0.2713 - val_accuracy: 0.9298\n",
            "Epoch 9/20\n",
            "13/13 [==============================] - 0s 5ms/step - loss: 0.2818 - accuracy: 0.9363 - val_loss: 0.2576 - val_accuracy: 0.9298\n",
            "Epoch 10/20\n",
            "13/13 [==============================] - 0s 5ms/step - loss: 0.2466 - accuracy: 0.9587 - val_loss: 0.2454 - val_accuracy: 0.9298\n",
            "Epoch 11/20\n",
            "13/13 [==============================] - 0s 5ms/step - loss: 0.2508 - accuracy: 0.9514 - val_loss: 0.2348 - val_accuracy: 0.9357\n",
            "Epoch 12/20\n",
            "13/13 [==============================] - 0s 5ms/step - loss: 0.2604 - accuracy: 0.9482 - val_loss: 0.2253 - val_accuracy: 0.9415\n",
            "Epoch 13/20\n",
            "13/13 [==============================] - 0s 5ms/step - loss: 0.2384 - accuracy: 0.9471 - val_loss: 0.2167 - val_accuracy: 0.9415\n",
            "Epoch 14/20\n",
            "13/13 [==============================] - 0s 5ms/step - loss: 0.2292 - accuracy: 0.9549 - val_loss: 0.2088 - val_accuracy: 0.9474\n",
            "Epoch 15/20\n",
            "13/13 [==============================] - 0s 5ms/step - loss: 0.2238 - accuracy: 0.9381 - val_loss: 0.2020 - val_accuracy: 0.9474\n",
            "Epoch 16/20\n",
            "13/13 [==============================] - 0s 5ms/step - loss: 0.2144 - accuracy: 0.9575 - val_loss: 0.1953 - val_accuracy: 0.9474\n",
            "Epoch 17/20\n",
            "13/13 [==============================] - 0s 6ms/step - loss: 0.2094 - accuracy: 0.9624 - val_loss: 0.1892 - val_accuracy: 0.9532\n",
            "Epoch 18/20\n",
            "13/13 [==============================] - 0s 5ms/step - loss: 0.1861 - accuracy: 0.9742 - val_loss: 0.1836 - val_accuracy: 0.9532\n",
            "Epoch 19/20\n",
            "13/13 [==============================] - 0s 5ms/step - loss: 0.1794 - accuracy: 0.9758 - val_loss: 0.1786 - val_accuracy: 0.9591\n",
            "Epoch 20/20\n",
            "13/13 [==============================] - 0s 5ms/step - loss: 0.1640 - accuracy: 0.9823 - val_loss: 0.1738 - val_accuracy: 0.9591\n"
          ],
          "name": "stdout"
        }
      ]
    },
    {
      "cell_type": "code",
      "metadata": {
        "colab": {
          "base_uri": "https://localhost:8080/"
        },
        "id": "VevFHJIJvQrY",
        "outputId": "29232e05-b0a5-4792-e155-a6ccd3721653"
      },
      "source": [
        "print(\"Train score: \", model.evaluate(X_train, y_train))\r\n",
        "print(\"Test score: \", model.evaluate(X_test, y_test))"
      ],
      "execution_count": null,
      "outputs": [
        {
          "output_type": "stream",
          "text": [
            "13/13 [==============================] - 0s 1ms/step - loss: 0.1840 - accuracy: 0.9698\n",
            "Train score:  [0.1839536726474762, 0.9698492288589478]\n",
            "6/6 [==============================] - 0s 2ms/step - loss: 0.1738 - accuracy: 0.9591\n",
            "Test score:  [0.1738175004720688, 0.9590643048286438]\n"
          ],
          "name": "stdout"
        }
      ]
    },
    {
      "cell_type": "code",
      "metadata": {
        "colab": {
          "base_uri": "https://localhost:8080/",
          "height": 282
        },
        "id": "okjQyeliuuZR",
        "outputId": "bfd9aaf5-35d3-404e-b42e-e8f2716217f5"
      },
      "source": [
        "plt.plot(fit_object.history['accuracy'], label='Train Acuracy')\r\n",
        "plt.plot(fit_object.history['val_accuracy'], label='Test Acuracy')"
      ],
      "execution_count": null,
      "outputs": [
        {
          "output_type": "execute_result",
          "data": {
            "text/plain": [
              "[<matplotlib.lines.Line2D at 0x7fe0ee49d590>]"
            ]
          },
          "metadata": {
            "tags": []
          },
          "execution_count": 18
        },
        {
          "output_type": "display_data",
          "data": {
            "image/png": "[encoded data removed]",
            "text/plain": [
              "<Figure size 432x288 with 1 Axes>"
            ]
          },
          "metadata": {
            "tags": [],
            "needs_background": "light"
          }
        }
      ]
    },
    {
      "cell_type": "code",
      "metadata": {
        "colab": {
          "base_uri": "https://localhost:8080/",
          "height": 282
        },
        "id": "WeBb2z8xu-X2",
        "outputId": "5ec3f02c-b2aa-4e90-dfda-44f19abf6092"
      },
      "source": [
        "plt.plot(fit_object.history['loss'], label='Train Loss')\r\n",
        "plt.plot(fit_object.history['val_loss'], label='Test Loss')"
      ],
      "execution_count": null,
      "outputs": [
        {
          "output_type": "execute_result",
          "data": {
            "text/plain": [
              "[<matplotlib.lines.Line2D at 0x7fe0edeab590>]"
            ]
          },
          "metadata": {
            "tags": []
          },
          "execution_count": 19
        },
        {
          "output_type": "display_data",
          "data": {
            "image/png": "[encoded data removed]",
            "text/plain": [
              "<Figure size 432x288 with 1 Axes>"
            ]
          },
          "metadata": {
            "tags": [],
            "needs_background": "light"
          }
        }
      ]
    },
    {
      "cell_type": "code",
      "metadata": {
        "id": "-NY0N_DjrJKb"
      },
      "source": [
        "# Guardar objeto resultante del fit en variable y graficar\r\n",
        "# r.history['loss'] y r.history['loss']"
      ],
      "execution_count": null,
      "outputs": []
    },
    {
      "cell_type": "markdown",
      "metadata": {
        "id": "Vl4BUlWxR3qD"
      },
      "source": [
        "## Linear regression\r\n",
        "\r\n"
      ]
    },
    {
      "cell_type": "code",
      "metadata": {
        "colab": {
          "base_uri": "https://localhost:8080/"
        },
        "id": "_nrCACM-Z6c0",
        "outputId": "f5e76177-306a-4d3c-cfd4-fecce1764d62"
      },
      "source": [
        "!wget https://raw.githubusercontent.com/lazyprogrammer/machine_learning_examples/master/tf2.0/moore.csv"
      ],
      "execution_count": 3,
      "outputs": [
        {
          "output_type": "stream",
          "text": [
            "--2021-03-04 13:22:57--  https://raw.githubusercontent.com/lazyprogrammer/machine_learning_examples/master/tf2.0/moore.csv\n",
            "Resolving raw.githubusercontent.com (raw.githubusercontent.com)... 185.199.109.133, 185.199.110.133, 185.199.108.133, ...\n",
            "Connecting to raw.githubusercontent.com (raw.githubusercontent.com)|185.199.109.133|:443... connected.\n",
            "HTTP request sent, awaiting response... 200 OK\n",
            "Length: 2302 (2.2K) [text/plain]\n",
            "Saving to: ‘moore.csv’\n",
            "\n",
            "\rmoore.csv             0%[                    ]       0  --.-KB/s               \rmoore.csv           100%[===================>]   2.25K  --.-KB/s    in 0s      \n",
            "\n",
            "2021-03-04 13:22:57 (40.6 MB/s) - ‘moore.csv’ saved [2302/2302]\n",
            "\n"
          ],
          "name": "stdout"
        }
      ]
    },
    {
      "cell_type": "code",
      "metadata": {
        "colab": {
          "base_uri": "https://localhost:8080/",
          "height": 204
        },
        "id": "2qDv78V1Z-T5",
        "outputId": "6286a103-9062-41f1-90d5-e588ee9d3af1"
      },
      "source": [
        "data = pd.read_csv('moore.csv', names=['year','transistors'])\r\n",
        "data.head()"
      ],
      "execution_count": 19,
      "outputs": [
        {
          "output_type": "execute_result",
          "data": {
            "text/html": [
              "<div>\n",
              "<style scoped>\n",
              "    .dataframe tbody tr th:only-of-type {\n",
              "        vertical-align: middle;\n",
              "    }\n",
              "\n",
              "    .dataframe tbody tr th {\n",
              "        vertical-align: top;\n",
              "    }\n",
              "\n",
              "    .dataframe thead th {\n",
              "        text-align: right;\n",
              "    }\n",
              "</style>\n",
              "<table border=\"1\" class=\"dataframe\">\n",
              "  <thead>\n",
              "    <tr style=\"text-align: right;\">\n",
              "      <th></th>\n",
              "      <th>year</th>\n",
              "      <th>transistors</th>\n",
              "    </tr>\n",
              "  </thead>\n",
              "  <tbody>\n",
              "    <tr>\n",
              "      <th>0</th>\n",
              "      <td>1971</td>\n",
              "      <td>2300</td>\n",
              "    </tr>\n",
              "    <tr>\n",
              "      <th>1</th>\n",
              "      <td>1972</td>\n",
              "      <td>3500</td>\n",
              "    </tr>\n",
              "    <tr>\n",
              "      <th>2</th>\n",
              "      <td>1973</td>\n",
              "      <td>2500</td>\n",
              "    </tr>\n",
              "    <tr>\n",
              "      <th>3</th>\n",
              "      <td>1973</td>\n",
              "      <td>2500</td>\n",
              "    </tr>\n",
              "    <tr>\n",
              "      <th>4</th>\n",
              "      <td>1974</td>\n",
              "      <td>4100</td>\n",
              "    </tr>\n",
              "  </tbody>\n",
              "</table>\n",
              "</div>"
            ],
            "text/plain": [
              "   year  transistors\n",
              "0  1971         2300\n",
              "1  1972         3500\n",
              "2  1973         2500\n",
              "3  1973         2500\n",
              "4  1974         4100"
            ]
          },
          "metadata": {
            "tags": []
          },
          "execution_count": 19
        }
      ]
    },
    {
      "cell_type": "code",
      "metadata": {
        "id": "SUVjmktkaDsl"
      },
      "source": [
        "X = data.iloc[:,0].values\r\n",
        "Y = data.iloc[:,1].values"
      ],
      "execution_count": 20,
      "outputs": []
    },
    {
      "cell_type": "code",
      "metadata": {
        "id": "S5feNAr4a5YK"
      },
      "source": [
        "X = X.reshape(-1, 1)"
      ],
      "execution_count": 21,
      "outputs": []
    },
    {
      "cell_type": "code",
      "metadata": {
        "colab": {
          "base_uri": "https://localhost:8080/",
          "height": 293
        },
        "id": "T94dzkBPbDlo",
        "outputId": "36b40a0b-a65d-46dd-ff21-0ad6487db14b"
      },
      "source": [
        "plt.scatter(X, Y)"
      ],
      "execution_count": 22,
      "outputs": [
        {
          "output_type": "execute_result",
          "data": {
            "text/plain": [
              "<matplotlib.collections.PathCollection at 0x7ff30450c850>"
            ]
          },
          "metadata": {
            "tags": []
          },
          "execution_count": 22
        },
        {
          "output_type": "display_data",
          "data": {
            "image/png": "[encoded data removed]",
            "text/plain": [
              "<Figure size 432x288 with 1 Axes>"
            ]
          },
          "metadata": {
            "tags": [],
            "needs_background": "light"
          }
        }
      ]
    },
    {
      "cell_type": "code",
      "metadata": {
        "colab": {
          "base_uri": "https://localhost:8080/",
          "height": 282
        },
        "id": "CUQ9qYYSbI3A",
        "outputId": "99722ee7-e38d-4105-9795-a8fabcd926e8"
      },
      "source": [
        "plt.scatter(X, np.log(Y))"
      ],
      "execution_count": 23,
      "outputs": [
        {
          "output_type": "execute_result",
          "data": {
            "text/plain": [
              "<matplotlib.collections.PathCollection at 0x7ff30447b0d0>"
            ]
          },
          "metadata": {
            "tags": []
          },
          "execution_count": 23
        },
        {
          "output_type": "display_data",
          "data": {
            "image/png": "[encoded data removed]",
            "text/plain": [
              "<Figure size 432x288 with 1 Axes>"
            ]
          },
          "metadata": {
            "tags": [],
            "needs_background": "light"
          }
        }
      ]
    },
    {
      "cell_type": "code",
      "metadata": {
        "id": "c4x_tZ9ubVdO"
      },
      "source": [
        "# Centering X around its mean to have smaller values\r\n",
        "X = X - X.mean()\r\n",
        "\r\n",
        "# Taking the log of Y to convert into a linear problem\r\n",
        "Y = np.log(Y)"
      ],
      "execution_count": 24,
      "outputs": []
    },
    {
      "cell_type": "code",
      "metadata": {
        "id": "z-W_wGSPbvn4"
      },
      "source": [
        "model = tf.keras.models.Sequential([\r\n",
        "    tf.keras.layers.Dense(1, activation=None, input_shape=(1,))\r\n",
        "])"
      ],
      "execution_count": 26,
      "outputs": []
    },
    {
      "cell_type": "code",
      "metadata": {
        "colab": {
          "base_uri": "https://localhost:8080/"
        },
        "id": "XnRULBU6cGgo",
        "outputId": "8a814f3b-8e17-4cd1-920d-495de08099a6"
      },
      "source": [
        "model.summary()"
      ],
      "execution_count": 27,
      "outputs": [
        {
          "output_type": "stream",
          "text": [
            "Model: \"sequential_1\"\n",
            "_________________________________________________________________\n",
            "Layer (type)                 Output Shape              Param #   \n",
            "=================================================================\n",
            "dense_1 (Dense)              (None, 1)                 2         \n",
            "=================================================================\n",
            "Total params: 2\n",
            "Trainable params: 2\n",
            "Non-trainable params: 0\n",
            "_________________________________________________________________\n"
          ],
          "name": "stdout"
        }
      ]
    },
    {
      "cell_type": "code",
      "metadata": {
        "id": "UmD4WIvFcJ6I"
      },
      "source": [
        "model.compile(\r\n",
        "    optimizer=tf.keras.optimizers.SGD(learning_rate=0.001, momentum=0.9),\r\n",
        "    loss=tf.keras.losses.mean_squared_error\r\n",
        ")"
      ],
      "execution_count": 28,
      "outputs": []
    },
    {
      "cell_type": "code",
      "metadata": {
        "id": "IF7i4USpc98k"
      },
      "source": [
        "# Schedule learning rate\r\n",
        "def schedule(epoch, lr):\r\n",
        "    if epoch >= 50:\r\n",
        "        return 0.0001\r\n",
        "    return 0.001\r\n",
        "\r\n",
        "scheduler = tf.keras.callbacks.LearningRateScheduler(schedule)"
      ],
      "execution_count": 29,
      "outputs": []
    },
    {
      "cell_type": "code",
      "metadata": {
        "colab": {
          "base_uri": "https://localhost:8080/"
        },
        "id": "s-sHfjB9c6U9",
        "outputId": "3c34656d-2db7-48cc-e668-2e6a3793c8f7"
      },
      "source": [
        "fit_object = model.fit(\r\n",
        "    X, Y,\r\n",
        "    epochs=100,\r\n",
        "    callbacks=[scheduler]\r\n",
        ")"
      ],
      "execution_count": 30,
      "outputs": [
        {
          "output_type": "stream",
          "text": [
            "Epoch 1/100\n",
            "6/6 [==============================] - 0s 2ms/step - loss: 417.1637\n",
            "Epoch 2/100\n",
            "6/6 [==============================] - 0s 1ms/step - loss: 527.5372\n",
            "Epoch 3/100\n",
            "6/6 [==============================] - 0s 1ms/step - loss: 379.0690\n",
            "Epoch 4/100\n",
            "6/6 [==============================] - 0s 1ms/step - loss: 238.0073\n",
            "Epoch 5/100\n",
            "6/6 [==============================] - 0s 2ms/step - loss: 192.6324\n",
            "Epoch 6/100\n",
            "6/6 [==============================] - 0s 2ms/step - loss: 193.0052\n",
            "Epoch 7/100\n",
            "6/6 [==============================] - 0s 2ms/step - loss: 127.4075\n",
            "Epoch 8/100\n",
            "6/6 [==============================] - 0s 1ms/step - loss: 123.4282\n",
            "Epoch 9/100\n",
            "6/6 [==============================] - 0s 1ms/step - loss: 123.1270\n",
            "Epoch 10/100\n",
            "6/6 [==============================] - 0s 2ms/step - loss: 59.4934\n",
            "Epoch 11/100\n",
            "6/6 [==============================] - 0s 1ms/step - loss: 42.0483\n",
            "Epoch 12/100\n",
            "6/6 [==============================] - 0s 1ms/step - loss: 27.5201\n",
            "Epoch 13/100\n",
            "6/6 [==============================] - 0s 1ms/step - loss: 20.1558\n",
            "Epoch 14/100\n",
            "6/6 [==============================] - 0s 2ms/step - loss: 14.1360\n",
            "Epoch 15/100\n",
            "6/6 [==============================] - 0s 2ms/step - loss: 13.7912\n",
            "Epoch 16/100\n",
            "6/6 [==============================] - 0s 2ms/step - loss: 9.4457\n",
            "Epoch 17/100\n",
            "6/6 [==============================] - 0s 2ms/step - loss: 5.7426\n",
            "Epoch 18/100\n",
            "6/6 [==============================] - 0s 2ms/step - loss: 5.0482\n",
            "Epoch 19/100\n",
            "6/6 [==============================] - 0s 1ms/step - loss: 4.4795\n",
            "Epoch 20/100\n",
            "6/6 [==============================] - 0s 1ms/step - loss: 4.3449\n",
            "Epoch 21/100\n",
            "6/6 [==============================] - 0s 1ms/step - loss: 5.2152\n",
            "Epoch 22/100\n",
            "6/6 [==============================] - 0s 1ms/step - loss: 4.5444\n",
            "Epoch 23/100\n",
            "6/6 [==============================] - 0s 1ms/step - loss: 2.6790\n",
            "Epoch 24/100\n",
            "6/6 [==============================] - 0s 1ms/step - loss: 3.1861\n",
            "Epoch 25/100\n",
            "6/6 [==============================] - 0s 2ms/step - loss: 2.6011\n",
            "Epoch 26/100\n",
            "6/6 [==============================] - 0s 2ms/step - loss: 1.4645\n",
            "Epoch 27/100\n",
            "6/6 [==============================] - 0s 2ms/step - loss: 1.0517\n",
            "Epoch 28/100\n",
            "6/6 [==============================] - 0s 2ms/step - loss: 0.9937\n",
            "Epoch 29/100\n",
            "6/6 [==============================] - 0s 2ms/step - loss: 1.1008\n",
            "Epoch 30/100\n",
            "6/6 [==============================] - 0s 2ms/step - loss: 1.0318\n",
            "Epoch 31/100\n",
            "6/6 [==============================] - 0s 1ms/step - loss: 1.0892\n",
            "Epoch 32/100\n",
            "6/6 [==============================] - 0s 2ms/step - loss: 1.2779\n",
            "Epoch 33/100\n",
            "6/6 [==============================] - 0s 2ms/step - loss: 1.3649\n",
            "Epoch 34/100\n",
            "6/6 [==============================] - 0s 2ms/step - loss: 1.4882\n",
            "Epoch 35/100\n",
            "6/6 [==============================] - 0s 2ms/step - loss: 1.1241\n",
            "Epoch 36/100\n",
            "6/6 [==============================] - 0s 1ms/step - loss: 1.2957\n",
            "Epoch 37/100\n",
            "6/6 [==============================] - 0s 2ms/step - loss: 0.9359\n",
            "Epoch 38/100\n",
            "6/6 [==============================] - 0s 2ms/step - loss: 0.9969\n",
            "Epoch 39/100\n",
            "6/6 [==============================] - 0s 2ms/step - loss: 0.9540\n",
            "Epoch 40/100\n",
            "6/6 [==============================] - 0s 2ms/step - loss: 1.7633\n",
            "Epoch 41/100\n",
            "6/6 [==============================] - 0s 2ms/step - loss: 1.4868\n",
            "Epoch 42/100\n",
            "6/6 [==============================] - 0s 2ms/step - loss: 1.4669\n",
            "Epoch 43/100\n",
            "6/6 [==============================] - 0s 2ms/step - loss: 1.1362\n",
            "Epoch 44/100\n",
            "6/6 [==============================] - 0s 1ms/step - loss: 0.8282\n",
            "Epoch 45/100\n",
            "6/6 [==============================] - 0s 2ms/step - loss: 0.9577\n",
            "Epoch 46/100\n",
            "6/6 [==============================] - 0s 2ms/step - loss: 1.1235\n",
            "Epoch 47/100\n",
            "6/6 [==============================] - 0s 2ms/step - loss: 1.0187\n",
            "Epoch 48/100\n",
            "6/6 [==============================] - 0s 2ms/step - loss: 0.9336\n",
            "Epoch 49/100\n",
            "6/6 [==============================] - 0s 2ms/step - loss: 1.0468\n",
            "Epoch 50/100\n",
            "6/6 [==============================] - 0s 1ms/step - loss: 0.9630\n",
            "Epoch 51/100\n",
            "6/6 [==============================] - 0s 1ms/step - loss: 1.2351\n",
            "Epoch 52/100\n",
            "6/6 [==============================] - 0s 1ms/step - loss: 1.0583\n",
            "Epoch 53/100\n",
            "6/6 [==============================] - 0s 2ms/step - loss: 1.0326\n",
            "Epoch 54/100\n",
            "6/6 [==============================] - 0s 2ms/step - loss: 0.7751\n",
            "Epoch 55/100\n",
            "6/6 [==============================] - 0s 2ms/step - loss: 0.8545\n",
            "Epoch 56/100\n",
            "6/6 [==============================] - 0s 2ms/step - loss: 0.9582\n",
            "Epoch 57/100\n",
            "6/6 [==============================] - 0s 1ms/step - loss: 0.7867\n",
            "Epoch 58/100\n",
            "6/6 [==============================] - 0s 1ms/step - loss: 1.1214\n",
            "Epoch 59/100\n",
            "6/6 [==============================] - 0s 1ms/step - loss: 0.9495\n",
            "Epoch 60/100\n",
            "6/6 [==============================] - 0s 1ms/step - loss: 0.8208\n",
            "Epoch 61/100\n",
            "6/6 [==============================] - 0s 2ms/step - loss: 0.8336\n",
            "Epoch 62/100\n",
            "6/6 [==============================] - 0s 1ms/step - loss: 0.7396\n",
            "Epoch 63/100\n",
            "6/6 [==============================] - 0s 2ms/step - loss: 0.8345\n",
            "Epoch 64/100\n",
            "6/6 [==============================] - 0s 2ms/step - loss: 0.6910\n",
            "Epoch 65/100\n",
            "6/6 [==============================] - 0s 2ms/step - loss: 0.8553\n",
            "Epoch 66/100\n",
            "6/6 [==============================] - 0s 2ms/step - loss: 1.0214\n",
            "Epoch 67/100\n",
            "6/6 [==============================] - 0s 2ms/step - loss: 0.8807\n",
            "Epoch 68/100\n",
            "6/6 [==============================] - 0s 2ms/step - loss: 0.8212\n",
            "Epoch 69/100\n",
            "6/6 [==============================] - 0s 2ms/step - loss: 0.8160\n",
            "Epoch 70/100\n",
            "6/6 [==============================] - 0s 1ms/step - loss: 0.7987\n",
            "Epoch 71/100\n",
            "6/6 [==============================] - 0s 1ms/step - loss: 0.8140\n",
            "Epoch 72/100\n",
            "6/6 [==============================] - 0s 1ms/step - loss: 0.8492\n",
            "Epoch 73/100\n",
            "6/6 [==============================] - 0s 2ms/step - loss: 0.8467\n",
            "Epoch 74/100\n",
            "6/6 [==============================] - 0s 2ms/step - loss: 0.8326\n",
            "Epoch 75/100\n",
            "6/6 [==============================] - 0s 1ms/step - loss: 0.8974\n",
            "Epoch 76/100\n",
            "6/6 [==============================] - 0s 2ms/step - loss: 0.8658\n",
            "Epoch 77/100\n",
            "6/6 [==============================] - 0s 2ms/step - loss: 0.9955\n",
            "Epoch 78/100\n",
            "6/6 [==============================] - 0s 2ms/step - loss: 1.0454\n",
            "Epoch 79/100\n",
            "6/6 [==============================] - 0s 2ms/step - loss: 0.7563\n",
            "Epoch 80/100\n",
            "6/6 [==============================] - 0s 2ms/step - loss: 0.8141\n",
            "Epoch 81/100\n",
            "6/6 [==============================] - 0s 1ms/step - loss: 0.8556\n",
            "Epoch 82/100\n",
            "6/6 [==============================] - 0s 1ms/step - loss: 0.7650\n",
            "Epoch 83/100\n",
            "6/6 [==============================] - 0s 2ms/step - loss: 0.9624\n",
            "Epoch 84/100\n",
            "6/6 [==============================] - 0s 1ms/step - loss: 0.7615\n",
            "Epoch 85/100\n",
            "6/6 [==============================] - 0s 1ms/step - loss: 1.1128\n",
            "Epoch 86/100\n",
            "6/6 [==============================] - 0s 2ms/step - loss: 1.0407\n",
            "Epoch 87/100\n",
            "6/6 [==============================] - 0s 1ms/step - loss: 1.0522\n",
            "Epoch 88/100\n",
            "6/6 [==============================] - 0s 1ms/step - loss: 0.9866\n",
            "Epoch 89/100\n",
            "6/6 [==============================] - 0s 2ms/step - loss: 0.9394\n",
            "Epoch 90/100\n",
            "6/6 [==============================] - 0s 2ms/step - loss: 0.7650\n",
            "Epoch 91/100\n",
            "6/6 [==============================] - 0s 1ms/step - loss: 1.0864\n",
            "Epoch 92/100\n",
            "6/6 [==============================] - 0s 1ms/step - loss: 0.9381\n",
            "Epoch 93/100\n",
            "6/6 [==============================] - 0s 1ms/step - loss: 1.0572\n",
            "Epoch 94/100\n",
            "6/6 [==============================] - 0s 2ms/step - loss: 1.0167\n",
            "Epoch 95/100\n",
            "6/6 [==============================] - 0s 1ms/step - loss: 0.7665\n",
            "Epoch 96/100\n",
            "6/6 [==============================] - 0s 1ms/step - loss: 0.8572\n",
            "Epoch 97/100\n",
            "6/6 [==============================] - 0s 1ms/step - loss: 0.6822\n",
            "Epoch 98/100\n",
            "6/6 [==============================] - 0s 2ms/step - loss: 0.8853\n",
            "Epoch 99/100\n",
            "6/6 [==============================] - 0s 1ms/step - loss: 0.7631\n",
            "Epoch 100/100\n",
            "6/6 [==============================] - 0s 1ms/step - loss: 0.9774\n"
          ],
          "name": "stdout"
        }
      ]
    },
    {
      "cell_type": "code",
      "metadata": {
        "colab": {
          "base_uri": "https://localhost:8080/",
          "height": 282
        },
        "id": "iERBCDx6dTEQ",
        "outputId": "2bcbc436-babd-4129-8049-99fc41d7457d"
      },
      "source": [
        "plt.plot(fit_object.history['loss'], label='Loss')"
      ],
      "execution_count": 31,
      "outputs": [
        {
          "output_type": "execute_result",
          "data": {
            "text/plain": [
              "[<matplotlib.lines.Line2D at 0x7ff2fd9a5990>]"
            ]
          },
          "metadata": {
            "tags": []
          },
          "execution_count": 31
        },
        {
          "output_type": "display_data",
          "data": {
            "image/png": "[encoded data removed]",
            "text/plain": [
              "<Figure size 432x288 with 1 Axes>"
            ]
          },
          "metadata": {
            "tags": [],
            "needs_background": "light"
          }
        }
      ]
    },
    {
      "cell_type": "code",
      "metadata": {
        "id": "SbnrS82HSaer"
      },
      "source": [
        "\r\n",
        "# Get the weights\r\n",
        "model.layers[0].get_weights"
      ],
      "execution_count": null,
      "outputs": []
    }
  ]
}