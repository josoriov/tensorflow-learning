{
  "nbformat": 4,
  "nbformat_minor": 0,
  "metadata": {
    "colab": {
      "name": "Linear Models.ipynb",
      "provenance": [],
      "collapsed_sections": [
        "y7N72rNIRrTJ"
      ]
    },
    "kernelspec": {
      "name": "python3",
      "display_name": "Python 3"
    }
  },
  "cells": [
    {
      "cell_type": "code",
      "metadata": {
        "id": "9Vt1ccCNqP6i"
      },
      "source": [
        "import numpy as np\r\n",
        "import pandas as pd\r\n",
        "import tensorflow as tf\r\n",
        "import matplotlib.pyplot as plt"
      ],
      "execution_count": 1,
      "outputs": []
    },
    {
      "cell_type": "code",
      "metadata": {
        "id": "UPWfo1syqhkD"
      },
      "source": [
        "from sklearn.datasets import load_breast_cancer\r\n",
        "from sklearn.model_selection import train_test_split\r\n",
        "from sklearn.preprocessing import StandardScaler"
      ],
      "execution_count": 2,
      "outputs": []
    },
    {
      "cell_type": "markdown",
      "metadata": {
        "id": "y7N72rNIRrTJ"
      },
      "source": [
        "## 1. Linear Classification"
      ]
    },
    {
      "cell_type": "code",
      "metadata": {
        "id": "8QmCWy05qizk"
      },
      "source": [
        "data_raw = load_breast_cancer()"
      ],
      "execution_count": 3,
      "outputs": []
    },
    {
      "cell_type": "code",
      "metadata": {
        "colab": {
          "base_uri": "https://localhost:8080/"
        },
        "id": "lhLYNBR5rSFM",
        "outputId": "dd0ede45-9538-410d-b8b7-4395833cf634"
      },
      "source": [
        "data_raw.feature_names"
      ],
      "execution_count": 4,
      "outputs": [
        {
          "output_type": "execute_result",
          "data": {
            "text/plain": [
              "array(['mean radius', 'mean texture', 'mean perimeter', 'mean area',\n",
              "       'mean smoothness', 'mean compactness', 'mean concavity',\n",
              "       'mean concave points', 'mean symmetry', 'mean fractal dimension',\n",
              "       'radius error', 'texture error', 'perimeter error', 'area error',\n",
              "       'smoothness error', 'compactness error', 'concavity error',\n",
              "       'concave points error', 'symmetry error',\n",
              "       'fractal dimension error', 'worst radius', 'worst texture',\n",
              "       'worst perimeter', 'worst area', 'worst smoothness',\n",
              "       'worst compactness', 'worst concavity', 'worst concave points',\n",
              "       'worst symmetry', 'worst fractal dimension'], dtype='<U23')"
            ]
          },
          "metadata": {
            "tags": []
          },
          "execution_count": 4
        }
      ]
    },
    {
      "cell_type": "code",
      "metadata": {
        "colab": {
          "base_uri": "https://localhost:8080/"
        },
        "id": "5x4v9Ovzq7vT",
        "outputId": "9c6c47ca-3c1b-407a-f233-364a2cb7510b"
      },
      "source": [
        "data_raw.target_names"
      ],
      "execution_count": 5,
      "outputs": [
        {
          "output_type": "execute_result",
          "data": {
            "text/plain": [
              "array(['malignant', 'benign'], dtype='<U9')"
            ]
          },
          "metadata": {
            "tags": []
          },
          "execution_count": 5
        }
      ]
    },
    {
      "cell_type": "code",
      "metadata": {
        "id": "-jN9vwl1q4g2"
      },
      "source": [
        "X = data_raw.data\r\n",
        "y = data_raw.target"
      ],
      "execution_count": 6,
      "outputs": []
    },
    {
      "cell_type": "code",
      "metadata": {
        "id": "g_K58hoAra8f"
      },
      "source": [
        "X_train, X_test, y_train, y_test = train_test_split(X, y, test_size=0.3, random_state=10)"
      ],
      "execution_count": 7,
      "outputs": []
    },
    {
      "cell_type": "code",
      "metadata": {
        "id": "WFEEEX3HtFmV"
      },
      "source": [
        "rows, cols = X_train.shape"
      ],
      "execution_count": 8,
      "outputs": []
    },
    {
      "cell_type": "code",
      "metadata": {
        "id": "OnPS3bh0tLFF"
      },
      "source": [
        "scaler = StandardScaler()\r\n",
        "\r\n",
        "scaler.fit(X_train)\r\n",
        "\r\n",
        "X_train = scaler.transform(X_train)\r\n",
        "X_test = scaler.transform(X_test)"
      ],
      "execution_count": 9,
      "outputs": []
    },
    {
      "cell_type": "code",
      "metadata": {
        "id": "-RT9s1F_tfdc"
      },
      "source": [
        "model = tf.keras.models.Sequential([\r\n",
        "    # tf.keras.layers.Input(shape=(cols,)),\r\n",
        "    tf.keras.layers.Dense(1, activation='sigmoid', input_shape=(cols,))\r\n",
        "])"
      ],
      "execution_count": 10,
      "outputs": []
    },
    {
      "cell_type": "code",
      "metadata": {
        "id": "m716Z1BUuK9P"
      },
      "source": [
        "model.compile(\r\n",
        "    optimizer='adam',\r\n",
        "    loss='binary_crossentropy',\r\n",
        "    metrics=['accuracy']\r\n",
        ")"
      ],
      "execution_count": 11,
      "outputs": []
    },
    {
      "cell_type": "code",
      "metadata": {
        "colab": {
          "base_uri": "https://localhost:8080/"
        },
        "id": "k4y7WgdKuI4g",
        "outputId": "699c52c1-e63b-4673-9149-6a3015e8db66"
      },
      "source": [
        "model.summary()"
      ],
      "execution_count": 12,
      "outputs": [
        {
          "output_type": "stream",
          "text": [
            "Model: \"sequential\"\n",
            "_________________________________________________________________\n",
            "Layer (type)                 Output Shape              Param #   \n",
            "=================================================================\n",
            "dense (Dense)                (None, 1)                 31        \n",
            "=================================================================\n",
            "Total params: 31\n",
            "Trainable params: 31\n",
            "Non-trainable params: 0\n",
            "_________________________________________________________________\n"
          ],
          "name": "stdout"
        }
      ]
    },
    {
      "cell_type": "code",
      "metadata": {
        "colab": {
          "base_uri": "https://localhost:8080/"
        },
        "id": "1Tk9GjZcuaEp",
        "outputId": "4390a7dd-7075-43ee-b081-5ee27d928ede"
      },
      "source": [
        "fit_object = model.fit(\r\n",
        "    x=X_train, y=y_train,\r\n",
        "    validation_data=(X_test, y_test),\r\n",
        "    epochs=20\r\n",
        ")"
      ],
      "execution_count": 13,
      "outputs": [
        {
          "output_type": "stream",
          "text": [
            "Epoch 1/20\n",
            "13/13 [==============================] - 1s 36ms/step - loss: 1.8815 - accuracy: 0.0852 - val_loss: 1.7283 - val_accuracy: 0.1111\n",
            "Epoch 2/20\n",
            "13/13 [==============================] - 0s 5ms/step - loss: 1.6974 - accuracy: 0.1146 - val_loss: 1.5947 - val_accuracy: 0.1287\n",
            "Epoch 3/20\n",
            "13/13 [==============================] - 0s 5ms/step - loss: 1.5679 - accuracy: 0.1147 - val_loss: 1.4680 - val_accuracy: 0.1637\n",
            "Epoch 4/20\n",
            "13/13 [==============================] - 0s 5ms/step - loss: 1.4557 - accuracy: 0.1925 - val_loss: 1.3493 - val_accuracy: 0.2164\n",
            "Epoch 5/20\n",
            "13/13 [==============================] - 0s 4ms/step - loss: 1.3078 - accuracy: 0.2527 - val_loss: 1.2396 - val_accuracy: 0.2632\n",
            "Epoch 6/20\n",
            "13/13 [==============================] - 0s 5ms/step - loss: 1.2310 - accuracy: 0.2819 - val_loss: 1.1376 - val_accuracy: 0.2924\n",
            "Epoch 7/20\n",
            "13/13 [==============================] - 0s 4ms/step - loss: 1.1178 - accuracy: 0.3380 - val_loss: 1.0462 - val_accuracy: 0.4152\n",
            "Epoch 8/20\n",
            "13/13 [==============================] - 0s 5ms/step - loss: 1.0307 - accuracy: 0.3924 - val_loss: 0.9646 - val_accuracy: 0.4444\n",
            "Epoch 9/20\n",
            "13/13 [==============================] - 0s 4ms/step - loss: 0.9544 - accuracy: 0.4254 - val_loss: 0.8951 - val_accuracy: 0.5146\n",
            "Epoch 10/20\n",
            "13/13 [==============================] - 0s 5ms/step - loss: 0.9042 - accuracy: 0.4839 - val_loss: 0.8289 - val_accuracy: 0.5848\n",
            "Epoch 11/20\n",
            "13/13 [==============================] - 0s 5ms/step - loss: 0.8063 - accuracy: 0.5590 - val_loss: 0.7725 - val_accuracy: 0.6374\n",
            "Epoch 12/20\n",
            "13/13 [==============================] - 0s 5ms/step - loss: 0.7646 - accuracy: 0.5767 - val_loss: 0.7223 - val_accuracy: 0.6784\n",
            "Epoch 13/20\n",
            "13/13 [==============================] - 0s 4ms/step - loss: 0.7712 - accuracy: 0.5848 - val_loss: 0.6762 - val_accuracy: 0.7018\n",
            "Epoch 14/20\n",
            "13/13 [==============================] - 0s 4ms/step - loss: 0.6854 - accuracy: 0.6929 - val_loss: 0.6363 - val_accuracy: 0.7193\n",
            "Epoch 15/20\n",
            "13/13 [==============================] - 0s 5ms/step - loss: 0.6681 - accuracy: 0.6691 - val_loss: 0.6013 - val_accuracy: 0.7602\n",
            "Epoch 16/20\n",
            "13/13 [==============================] - 0s 5ms/step - loss: 0.6286 - accuracy: 0.7195 - val_loss: 0.5700 - val_accuracy: 0.7836\n",
            "Epoch 17/20\n",
            "13/13 [==============================] - 0s 5ms/step - loss: 0.5948 - accuracy: 0.6996 - val_loss: 0.5421 - val_accuracy: 0.8012\n",
            "Epoch 18/20\n",
            "13/13 [==============================] - 0s 5ms/step - loss: 0.5683 - accuracy: 0.7314 - val_loss: 0.5165 - val_accuracy: 0.8363\n",
            "Epoch 19/20\n",
            "13/13 [==============================] - 0s 4ms/step - loss: 0.5480 - accuracy: 0.7488 - val_loss: 0.4931 - val_accuracy: 0.8480\n",
            "Epoch 20/20\n",
            "13/13 [==============================] - 0s 5ms/step - loss: 0.5247 - accuracy: 0.7645 - val_loss: 0.4725 - val_accuracy: 0.8596\n"
          ],
          "name": "stdout"
        }
      ]
    },
    {
      "cell_type": "code",
      "metadata": {
        "colab": {
          "base_uri": "https://localhost:8080/"
        },
        "id": "VevFHJIJvQrY",
        "outputId": "9356fb38-ec0f-4b33-982c-29c7eb861048"
      },
      "source": [
        "print(\"Train score: \", model.evaluate(X_train, y_train))\r\n",
        "print(\"Test score: \", model.evaluate(X_test, y_test))"
      ],
      "execution_count": 14,
      "outputs": [
        {
          "output_type": "stream",
          "text": [
            "13/13 [==============================] - 0s 1ms/step - loss: 0.4816 - accuracy: 0.7915\n",
            "Train score:  [0.4816097021102905, 0.7914572954177856]\n",
            "6/6 [==============================] - 0s 2ms/step - loss: 0.4725 - accuracy: 0.8596\n",
            "Test score:  [0.4724648892879486, 0.859649121761322]\n"
          ],
          "name": "stdout"
        }
      ]
    },
    {
      "cell_type": "code",
      "metadata": {
        "colab": {
          "base_uri": "https://localhost:8080/",
          "height": 282
        },
        "id": "okjQyeliuuZR",
        "outputId": "843d35d0-43dd-48f2-89f7-6353a7d75cca"
      },
      "source": [
        "plt.plot(fit_object.history['accuracy'], label='Train Acuracy')\r\n",
        "plt.plot(fit_object.history['val_accuracy'], label='Test Acuracy')"
      ],
      "execution_count": 15,
      "outputs": [
        {
          "output_type": "execute_result",
          "data": {
            "text/plain": [
              "[<matplotlib.lines.Line2D at 0x7fe1392eb5d0>]"
            ]
          },
          "metadata": {
            "tags": []
          },
          "execution_count": 15
        },
        {
          "output_type": "display_data",
          "data": {
            "image/png": "[encoded data removed]",
            "text/plain": [
              "<Figure size 432x288 with 1 Axes>"
            ]
          },
          "metadata": {
            "tags": [],
            "needs_background": "light"
          }
        }
      ]
    },
    {
      "cell_type": "code",
      "metadata": {
        "colab": {
          "base_uri": "https://localhost:8080/",
          "height": 282
        },
        "id": "WeBb2z8xu-X2",
        "outputId": "998f3c45-ced4-44cc-d519-04a691c4056c"
      },
      "source": [
        "plt.plot(fit_object.history['loss'], label='Train Loss')\r\n",
        "plt.plot(fit_object.history['val_loss'], label='Test Loss')"
      ],
      "execution_count": 16,
      "outputs": [
        {
          "output_type": "execute_result",
          "data": {
            "text/plain": [
              "[<matplotlib.lines.Line2D at 0x7fe13a3c9410>]"
            ]
          },
          "metadata": {
            "tags": []
          },
          "execution_count": 16
        },
        {
          "output_type": "display_data",
          "data": {
            "image/png": "[encoded data removed]",
            "text/plain": [
              "<Figure size 432x288 with 1 Axes>"
            ]
          },
          "metadata": {
            "tags": [],
            "needs_background": "light"
          }
        }
      ]
    },
    {
      "cell_type": "code",
      "metadata": {
        "id": "-NY0N_DjrJKb",
        "colab": {
          "base_uri": "https://localhost:8080/"
        },
        "outputId": "b61a5796-542d-46e3-f605-a9c172012eca"
      },
      "source": [
        "P = model.predict(X_test)\r\n",
        "P = np.round(P).flatten()\r\n",
        "print(P)"
      ],
      "execution_count": 17,
      "outputs": [
        {
          "output_type": "stream",
          "text": [
            "[0. 1. 1. 0. 1. 0. 1. 1. 0. 1. 1. 1. 0. 1. 0. 0. 1. 1. 1. 1. 1. 0. 1. 0.\n",
            " 0. 0. 1. 0. 1. 1. 1. 1. 0. 1. 1. 1. 1. 1. 1. 1. 1. 1. 0. 0. 1. 0. 0. 0.\n",
            " 0. 0. 0. 0. 0. 1. 0. 0. 0. 1. 1. 1. 0. 1. 0. 0. 1. 0. 1. 1. 1. 0. 1. 1.\n",
            " 1. 1. 1. 0. 1. 1. 1. 1. 0. 1. 0. 1. 1. 1. 1. 1. 1. 1. 1. 1. 0. 1. 1. 1.\n",
            " 0. 1. 0. 1. 0. 0. 1. 1. 0. 1. 0. 0. 1. 1. 1. 1. 0. 0. 0. 1. 1. 0. 0. 1.\n",
            " 1. 0. 1. 0. 1. 1. 0. 0. 1. 1. 1. 1. 1. 1. 1. 0. 0. 0. 1. 1. 1. 1. 0. 1.\n",
            " 1. 0. 0. 1. 1. 0. 1. 1. 0. 1. 1. 1. 0. 1. 1. 1. 0. 1. 1. 1. 1. 0. 0. 1.\n",
            " 1. 1. 1.]\n"
          ],
          "name": "stdout"
        }
      ]
    },
    {
      "cell_type": "code",
      "metadata": {
        "colab": {
          "base_uri": "https://localhost:8080/"
        },
        "id": "HFBGgPhz7LPq",
        "outputId": "6bc4a853-6e29-4317-a17c-ec4824b4a5af"
      },
      "source": [
        "print(\"Manually calculated accuracy:\", np.mean(P == y_test))\r\n",
        "\r\n",
        "print(\"Evaluate output:\", model.evaluate(X_test, y_test))"
      ],
      "execution_count": 18,
      "outputs": [
        {
          "output_type": "stream",
          "text": [
            "Manually calculated accuracy: 0.8596491228070176\n",
            "6/6 [==============================] - 0s 2ms/step - loss: 0.4725 - accuracy: 0.8596\n",
            "Evaluate output: [0.4724648892879486, 0.859649121761322]\n"
          ],
          "name": "stdout"
        }
      ]
    },
    {
      "cell_type": "code",
      "metadata": {
        "id": "1UvOJop9_GXW"
      },
      "source": [
        "model.save('linear_classificator.h5')"
      ],
      "execution_count": 19,
      "outputs": []
    },
    {
      "cell_type": "markdown",
      "metadata": {
        "id": "Vl4BUlWxR3qD"
      },
      "source": [
        "## 2. Linear regression\r\n",
        "\r\n"
      ]
    },
    {
      "cell_type": "code",
      "metadata": {
        "colab": {
          "base_uri": "https://localhost:8080/"
        },
        "id": "_nrCACM-Z6c0",
        "outputId": "0bda5758-5173-4af8-ca35-b683c077d325"
      },
      "source": [
        "!wget https://raw.githubusercontent.com/lazyprogrammer/machine_learning_examples/master/tf2.0/moore.csv"
      ],
      "execution_count": 20,
      "outputs": [
        {
          "output_type": "stream",
          "text": [
            "--2021-03-08 13:18:51--  https://raw.githubusercontent.com/lazyprogrammer/machine_learning_examples/master/tf2.0/moore.csv\n",
            "Resolving raw.githubusercontent.com (raw.githubusercontent.com)... 185.199.108.133, 185.199.111.133, 185.199.110.133, ...\n",
            "Connecting to raw.githubusercontent.com (raw.githubusercontent.com)|185.199.108.133|:443... connected.\n",
            "HTTP request sent, awaiting response... 200 OK\n",
            "Length: 2302 (2.2K) [text/plain]\n",
            "Saving to: ‘moore.csv.4’\n",
            "\n",
            "\rmoore.csv.4           0%[                    ]       0  --.-KB/s               \rmoore.csv.4         100%[===================>]   2.25K  --.-KB/s    in 0s      \n",
            "\n",
            "2021-03-08 13:18:51 (24.2 MB/s) - ‘moore.csv.4’ saved [2302/2302]\n",
            "\n"
          ],
          "name": "stdout"
        }
      ]
    },
    {
      "cell_type": "code",
      "metadata": {
        "colab": {
          "base_uri": "https://localhost:8080/",
          "height": 204
        },
        "id": "2qDv78V1Z-T5",
        "outputId": "d24cb7fc-9aad-466c-d764-e47c94de2aff"
      },
      "source": [
        "data = pd.read_csv('moore.csv', names=['year','transistors'])\r\n",
        "data.head()"
      ],
      "execution_count": 21,
      "outputs": [
        {
          "output_type": "execute_result",
          "data": {
            "text/html": [
              "<div>\n",
              "<style scoped>\n",
              "    .dataframe tbody tr th:only-of-type {\n",
              "        vertical-align: middle;\n",
              "    }\n",
              "\n",
              "    .dataframe tbody tr th {\n",
              "        vertical-align: top;\n",
              "    }\n",
              "\n",
              "    .dataframe thead th {\n",
              "        text-align: right;\n",
              "    }\n",
              "</style>\n",
              "<table border=\"1\" class=\"dataframe\">\n",
              "  <thead>\n",
              "    <tr style=\"text-align: right;\">\n",
              "      <th></th>\n",
              "      <th>year</th>\n",
              "      <th>transistors</th>\n",
              "    </tr>\n",
              "  </thead>\n",
              "  <tbody>\n",
              "    <tr>\n",
              "      <th>0</th>\n",
              "      <td>1971</td>\n",
              "      <td>2300</td>\n",
              "    </tr>\n",
              "    <tr>\n",
              "      <th>1</th>\n",
              "      <td>1972</td>\n",
              "      <td>3500</td>\n",
              "    </tr>\n",
              "    <tr>\n",
              "      <th>2</th>\n",
              "      <td>1973</td>\n",
              "      <td>2500</td>\n",
              "    </tr>\n",
              "    <tr>\n",
              "      <th>3</th>\n",
              "      <td>1973</td>\n",
              "      <td>2500</td>\n",
              "    </tr>\n",
              "    <tr>\n",
              "      <th>4</th>\n",
              "      <td>1974</td>\n",
              "      <td>4100</td>\n",
              "    </tr>\n",
              "  </tbody>\n",
              "</table>\n",
              "</div>"
            ],
            "text/plain": [
              "   year  transistors\n",
              "0  1971         2300\n",
              "1  1972         3500\n",
              "2  1973         2500\n",
              "3  1973         2500\n",
              "4  1974         4100"
            ]
          },
          "metadata": {
            "tags": []
          },
          "execution_count": 21
        }
      ]
    },
    {
      "cell_type": "code",
      "metadata": {
        "id": "SUVjmktkaDsl"
      },
      "source": [
        "X = data.iloc[:,0].values\r\n",
        "Y = data.iloc[:,1].values"
      ],
      "execution_count": 22,
      "outputs": []
    },
    {
      "cell_type": "code",
      "metadata": {
        "id": "S5feNAr4a5YK"
      },
      "source": [
        "X = X.reshape(-1, 1)"
      ],
      "execution_count": 23,
      "outputs": []
    },
    {
      "cell_type": "code",
      "metadata": {
        "colab": {
          "base_uri": "https://localhost:8080/",
          "height": 293
        },
        "id": "T94dzkBPbDlo",
        "outputId": "0820f1f6-797d-46d3-da0e-49b56a2de245"
      },
      "source": [
        "plt.scatter(X, Y)"
      ],
      "execution_count": 24,
      "outputs": [
        {
          "output_type": "execute_result",
          "data": {
            "text/plain": [
              "<matplotlib.collections.PathCollection at 0x7fe138d95750>"
            ]
          },
          "metadata": {
            "tags": []
          },
          "execution_count": 24
        },
        {
          "output_type": "display_data",
          "data": {
            "image/png": "[encoded data removed]",
            "text/plain": [
              "<Figure size 432x288 with 1 Axes>"
            ]
          },
          "metadata": {
            "tags": [],
            "needs_background": "light"
          }
        }
      ]
    },
    {
      "cell_type": "code",
      "metadata": {
        "colab": {
          "base_uri": "https://localhost:8080/",
          "height": 282
        },
        "id": "CUQ9qYYSbI3A",
        "outputId": "95f62516-ae0a-48e5-ac27-5247d0b73ff4"
      },
      "source": [
        "plt.scatter(X, np.log(Y))"
      ],
      "execution_count": 25,
      "outputs": [
        {
          "output_type": "execute_result",
          "data": {
            "text/plain": [
              "<matplotlib.collections.PathCollection at 0x7fe1386e0a10>"
            ]
          },
          "metadata": {
            "tags": []
          },
          "execution_count": 25
        },
        {
          "output_type": "display_data",
          "data": {
            "image/png": "[encoded data removed]",
            "text/plain": [
              "<Figure size 432x288 with 1 Axes>"
            ]
          },
          "metadata": {
            "tags": [],
            "needs_background": "light"
          }
        }
      ]
    },
    {
      "cell_type": "code",
      "metadata": {
        "id": "c4x_tZ9ubVdO"
      },
      "source": [
        "# Centering X around its mean to have smaller values\r\n",
        "X = X - X.mean()\r\n",
        "\r\n",
        "# Taking the log of Y to convert into a linear problem\r\n",
        "Y = np.log(Y)"
      ],
      "execution_count": 26,
      "outputs": []
    },
    {
      "cell_type": "code",
      "metadata": {
        "id": "z-W_wGSPbvn4"
      },
      "source": [
        "model = tf.keras.models.Sequential([\r\n",
        "    tf.keras.layers.Dense(1, activation=None, input_shape=(1,))\r\n",
        "])"
      ],
      "execution_count": 27,
      "outputs": []
    },
    {
      "cell_type": "code",
      "metadata": {
        "colab": {
          "base_uri": "https://localhost:8080/"
        },
        "id": "XnRULBU6cGgo",
        "outputId": "defa3c70-3ea6-4d39-97f5-50ceb2d0719f"
      },
      "source": [
        "model.summary()"
      ],
      "execution_count": 28,
      "outputs": [
        {
          "output_type": "stream",
          "text": [
            "Model: \"sequential_1\"\n",
            "_________________________________________________________________\n",
            "Layer (type)                 Output Shape              Param #   \n",
            "=================================================================\n",
            "dense_1 (Dense)              (None, 1)                 2         \n",
            "=================================================================\n",
            "Total params: 2\n",
            "Trainable params: 2\n",
            "Non-trainable params: 0\n",
            "_________________________________________________________________\n"
          ],
          "name": "stdout"
        }
      ]
    },
    {
      "cell_type": "code",
      "metadata": {
        "id": "UmD4WIvFcJ6I"
      },
      "source": [
        "model.compile(\r\n",
        "    optimizer=tf.keras.optimizers.SGD(learning_rate=0.001, momentum=0.9),\r\n",
        "    loss=tf.keras.losses.mean_squared_error\r\n",
        ")"
      ],
      "execution_count": 29,
      "outputs": []
    },
    {
      "cell_type": "code",
      "metadata": {
        "id": "IF7i4USpc98k"
      },
      "source": [
        "# Schedule learning rate\r\n",
        "def schedule(epoch, lr):\r\n",
        "    if epoch >= 50:\r\n",
        "        return 0.0001\r\n",
        "    return 0.001\r\n",
        "\r\n",
        "scheduler = tf.keras.callbacks.LearningRateScheduler(schedule)"
      ],
      "execution_count": 30,
      "outputs": []
    },
    {
      "cell_type": "code",
      "metadata": {
        "colab": {
          "base_uri": "https://localhost:8080/"
        },
        "id": "s-sHfjB9c6U9",
        "outputId": "1727e3f0-349c-44e2-e6b4-6410962804fc"
      },
      "source": [
        "fit_object = model.fit(\r\n",
        "    X, Y,\r\n",
        "    epochs=100,\r\n",
        "    callbacks=[scheduler]\r\n",
        ")"
      ],
      "execution_count": 31,
      "outputs": [
        {
          "output_type": "stream",
          "text": [
            "Epoch 1/100\n",
            "6/6 [==============================] - 0s 2ms/step - loss: 364.5432\n",
            "Epoch 2/100\n",
            "6/6 [==============================] - 0s 2ms/step - loss: 382.7134\n",
            "Epoch 3/100\n",
            "6/6 [==============================] - 0s 2ms/step - loss: 517.9850\n",
            "Epoch 4/100\n",
            "6/6 [==============================] - 0s 3ms/step - loss: 309.9052\n",
            "Epoch 5/100\n",
            "6/6 [==============================] - 0s 2ms/step - loss: 256.1434\n",
            "Epoch 6/100\n",
            "6/6 [==============================] - 0s 2ms/step - loss: 341.1373\n",
            "Epoch 7/100\n",
            "6/6 [==============================] - 0s 2ms/step - loss: 270.2594\n",
            "Epoch 8/100\n",
            "6/6 [==============================] - 0s 2ms/step - loss: 151.1541\n",
            "Epoch 9/100\n",
            "6/6 [==============================] - 0s 2ms/step - loss: 63.5181\n",
            "Epoch 10/100\n",
            "6/6 [==============================] - 0s 2ms/step - loss: 40.6545\n",
            "Epoch 11/100\n",
            "6/6 [==============================] - 0s 2ms/step - loss: 24.5801\n",
            "Epoch 12/100\n",
            "6/6 [==============================] - 0s 1ms/step - loss: 28.2684\n",
            "Epoch 13/100\n",
            "6/6 [==============================] - 0s 2ms/step - loss: 15.2199\n",
            "Epoch 14/100\n",
            "6/6 [==============================] - 0s 2ms/step - loss: 11.6225\n",
            "Epoch 15/100\n",
            "6/6 [==============================] - 0s 1ms/step - loss: 8.3799\n",
            "Epoch 16/100\n",
            "6/6 [==============================] - 0s 1ms/step - loss: 6.3137\n",
            "Epoch 17/100\n",
            "6/6 [==============================] - 0s 1ms/step - loss: 4.5295\n",
            "Epoch 18/100\n",
            "6/6 [==============================] - 0s 1ms/step - loss: 4.1034\n",
            "Epoch 19/100\n",
            "6/6 [==============================] - 0s 1ms/step - loss: 3.6764\n",
            "Epoch 20/100\n",
            "6/6 [==============================] - 0s 2ms/step - loss: 2.4032\n",
            "Epoch 21/100\n",
            "6/6 [==============================] - 0s 1ms/step - loss: 1.6821\n",
            "Epoch 22/100\n",
            "6/6 [==============================] - 0s 2ms/step - loss: 1.7539\n",
            "Epoch 23/100\n",
            "6/6 [==============================] - 0s 2ms/step - loss: 1.4198\n",
            "Epoch 24/100\n",
            "6/6 [==============================] - 0s 2ms/step - loss: 1.4261\n",
            "Epoch 25/100\n",
            "6/6 [==============================] - 0s 2ms/step - loss: 1.3545\n",
            "Epoch 26/100\n",
            "6/6 [==============================] - 0s 2ms/step - loss: 1.1915\n",
            "Epoch 27/100\n",
            "6/6 [==============================] - 0s 2ms/step - loss: 1.2229\n",
            "Epoch 28/100\n",
            "6/6 [==============================] - 0s 2ms/step - loss: 0.9502\n",
            "Epoch 29/100\n",
            "6/6 [==============================] - 0s 2ms/step - loss: 0.9877\n",
            "Epoch 30/100\n",
            "6/6 [==============================] - 0s 2ms/step - loss: 1.0666\n",
            "Epoch 31/100\n",
            "6/6 [==============================] - 0s 2ms/step - loss: 1.0187\n",
            "Epoch 32/100\n",
            "6/6 [==============================] - 0s 1ms/step - loss: 1.0834\n",
            "Epoch 33/100\n",
            "6/6 [==============================] - 0s 2ms/step - loss: 1.1474\n",
            "Epoch 34/100\n",
            "6/6 [==============================] - 0s 2ms/step - loss: 1.0598\n",
            "Epoch 35/100\n",
            "6/6 [==============================] - 0s 2ms/step - loss: 0.9787\n",
            "Epoch 36/100\n",
            "6/6 [==============================] - 0s 3ms/step - loss: 0.9328\n",
            "Epoch 37/100\n",
            "6/6 [==============================] - 0s 2ms/step - loss: 1.0110\n",
            "Epoch 38/100\n",
            "6/6 [==============================] - 0s 2ms/step - loss: 0.9056\n",
            "Epoch 39/100\n",
            "6/6 [==============================] - 0s 1ms/step - loss: 0.8080\n",
            "Epoch 40/100\n",
            "6/6 [==============================] - 0s 1ms/step - loss: 1.2162\n",
            "Epoch 41/100\n",
            "6/6 [==============================] - 0s 2ms/step - loss: 0.9593\n",
            "Epoch 42/100\n",
            "6/6 [==============================] - 0s 2ms/step - loss: 0.9909\n",
            "Epoch 43/100\n",
            "6/6 [==============================] - 0s 2ms/step - loss: 0.8767\n",
            "Epoch 44/100\n",
            "6/6 [==============================] - 0s 2ms/step - loss: 1.2334\n",
            "Epoch 45/100\n",
            "6/6 [==============================] - 0s 1ms/step - loss: 0.8348\n",
            "Epoch 46/100\n",
            "6/6 [==============================] - 0s 2ms/step - loss: 0.9584\n",
            "Epoch 47/100\n",
            "6/6 [==============================] - 0s 2ms/step - loss: 0.9424\n",
            "Epoch 48/100\n",
            "6/6 [==============================] - 0s 2ms/step - loss: 0.9280\n",
            "Epoch 49/100\n",
            "6/6 [==============================] - 0s 2ms/step - loss: 1.2830\n",
            "Epoch 50/100\n",
            "6/6 [==============================] - 0s 2ms/step - loss: 1.2138\n",
            "Epoch 51/100\n",
            "6/6 [==============================] - 0s 2ms/step - loss: 1.2030\n",
            "Epoch 52/100\n",
            "6/6 [==============================] - 0s 2ms/step - loss: 1.1168\n",
            "Epoch 53/100\n",
            "6/6 [==============================] - 0s 2ms/step - loss: 1.0274\n",
            "Epoch 54/100\n",
            "6/6 [==============================] - 0s 2ms/step - loss: 0.7863\n",
            "Epoch 55/100\n",
            "6/6 [==============================] - 0s 2ms/step - loss: 0.8491\n",
            "Epoch 56/100\n",
            "6/6 [==============================] - 0s 3ms/step - loss: 1.0220\n",
            "Epoch 57/100\n",
            "6/6 [==============================] - 0s 2ms/step - loss: 0.8937\n",
            "Epoch 58/100\n",
            "6/6 [==============================] - 0s 2ms/step - loss: 0.9002\n",
            "Epoch 59/100\n",
            "6/6 [==============================] - 0s 2ms/step - loss: 0.9930\n",
            "Epoch 60/100\n",
            "6/6 [==============================] - 0s 2ms/step - loss: 0.8982\n",
            "Epoch 61/100\n",
            "6/6 [==============================] - 0s 2ms/step - loss: 0.7584\n",
            "Epoch 62/100\n",
            "6/6 [==============================] - 0s 2ms/step - loss: 0.7928\n",
            "Epoch 63/100\n",
            "6/6 [==============================] - 0s 2ms/step - loss: 0.9479\n",
            "Epoch 64/100\n",
            "6/6 [==============================] - 0s 2ms/step - loss: 0.8619\n",
            "Epoch 65/100\n",
            "6/6 [==============================] - 0s 2ms/step - loss: 0.7208\n",
            "Epoch 66/100\n",
            "6/6 [==============================] - 0s 2ms/step - loss: 0.7907\n",
            "Epoch 67/100\n",
            "6/6 [==============================] - 0s 2ms/step - loss: 0.7819\n",
            "Epoch 68/100\n",
            "6/6 [==============================] - 0s 2ms/step - loss: 0.7615\n",
            "Epoch 69/100\n",
            "6/6 [==============================] - 0s 2ms/step - loss: 1.0874\n",
            "Epoch 70/100\n",
            "6/6 [==============================] - 0s 2ms/step - loss: 0.9521\n",
            "Epoch 71/100\n",
            "6/6 [==============================] - 0s 2ms/step - loss: 0.9285\n",
            "Epoch 72/100\n",
            "6/6 [==============================] - 0s 2ms/step - loss: 0.8263\n",
            "Epoch 73/100\n",
            "6/6 [==============================] - 0s 2ms/step - loss: 0.9133\n",
            "Epoch 74/100\n",
            "6/6 [==============================] - 0s 2ms/step - loss: 0.9190\n",
            "Epoch 75/100\n",
            "6/6 [==============================] - 0s 2ms/step - loss: 0.9747\n",
            "Epoch 76/100\n",
            "6/6 [==============================] - 0s 2ms/step - loss: 0.9857\n",
            "Epoch 77/100\n",
            "6/6 [==============================] - 0s 2ms/step - loss: 0.8247\n",
            "Epoch 78/100\n",
            "6/6 [==============================] - 0s 2ms/step - loss: 0.9777\n",
            "Epoch 79/100\n",
            "6/6 [==============================] - 0s 2ms/step - loss: 1.0103\n",
            "Epoch 80/100\n",
            "6/6 [==============================] - 0s 2ms/step - loss: 0.9757\n",
            "Epoch 81/100\n",
            "6/6 [==============================] - 0s 2ms/step - loss: 0.7696\n",
            "Epoch 82/100\n",
            "6/6 [==============================] - 0s 2ms/step - loss: 1.0636\n",
            "Epoch 83/100\n",
            "6/6 [==============================] - 0s 2ms/step - loss: 0.9504\n",
            "Epoch 84/100\n",
            "6/6 [==============================] - 0s 2ms/step - loss: 0.8015\n",
            "Epoch 85/100\n",
            "6/6 [==============================] - 0s 2ms/step - loss: 0.9500\n",
            "Epoch 86/100\n",
            "6/6 [==============================] - 0s 3ms/step - loss: 0.7346\n",
            "Epoch 87/100\n",
            "6/6 [==============================] - 0s 2ms/step - loss: 1.1186\n",
            "Epoch 88/100\n",
            "6/6 [==============================] - 0s 2ms/step - loss: 0.7466\n",
            "Epoch 89/100\n",
            "6/6 [==============================] - 0s 2ms/step - loss: 0.7716\n",
            "Epoch 90/100\n",
            "6/6 [==============================] - 0s 2ms/step - loss: 1.0949\n",
            "Epoch 91/100\n",
            "6/6 [==============================] - 0s 1ms/step - loss: 1.0629\n",
            "Epoch 92/100\n",
            "6/6 [==============================] - 0s 1ms/step - loss: 0.9221\n",
            "Epoch 93/100\n",
            "6/6 [==============================] - 0s 2ms/step - loss: 0.8522\n",
            "Epoch 94/100\n",
            "6/6 [==============================] - 0s 2ms/step - loss: 0.9652\n",
            "Epoch 95/100\n",
            "6/6 [==============================] - 0s 1ms/step - loss: 0.7817\n",
            "Epoch 96/100\n",
            "6/6 [==============================] - 0s 1ms/step - loss: 0.8242\n",
            "Epoch 97/100\n",
            "6/6 [==============================] - 0s 2ms/step - loss: 0.9300\n",
            "Epoch 98/100\n",
            "6/6 [==============================] - 0s 1ms/step - loss: 0.8620\n",
            "Epoch 99/100\n",
            "6/6 [==============================] - 0s 2ms/step - loss: 0.9019\n",
            "Epoch 100/100\n",
            "6/6 [==============================] - 0s 2ms/step - loss: 0.9315\n"
          ],
          "name": "stdout"
        }
      ]
    },
    {
      "cell_type": "code",
      "metadata": {
        "colab": {
          "base_uri": "https://localhost:8080/",
          "height": 282
        },
        "id": "iERBCDx6dTEQ",
        "outputId": "0959a19a-1e1b-42af-c833-072c52856da4"
      },
      "source": [
        "plt.plot(fit_object.history['loss'], label='Loss')"
      ],
      "execution_count": 32,
      "outputs": [
        {
          "output_type": "execute_result",
          "data": {
            "text/plain": [
              "[<matplotlib.lines.Line2D at 0x7fe13855e3d0>]"
            ]
          },
          "metadata": {
            "tags": []
          },
          "execution_count": 32
        },
        {
          "output_type": "display_data",
          "data": {
            "image/png": "[encoded data removed]",
            "text/plain": [
              "<Figure size 432x288 with 1 Axes>"
            ]
          },
          "metadata": {
            "tags": [],
            "needs_background": "light"
          }
        }
      ]
    },
    {
      "cell_type": "code",
      "metadata": {
        "id": "SbnrS82HSaer",
        "colab": {
          "base_uri": "https://localhost:8080/"
        },
        "outputId": "203c4667-7e02-40fc-d85b-6efce7c59117"
      },
      "source": [
        "# Get the weights\r\n",
        "model.layers[0].get_weights()"
      ],
      "execution_count": 33,
      "outputs": [
        {
          "output_type": "execute_result",
          "data": {
            "text/plain": [
              "[array([[0.33585006]], dtype=float32), array([17.76636], dtype=float32)]"
            ]
          },
          "metadata": {
            "tags": []
          },
          "execution_count": 33
        }
      ]
    },
    {
      "cell_type": "code",
      "metadata": {
        "colab": {
          "base_uri": "https://localhost:8080/",
          "height": 282
        },
        "id": "NAaLpTRo7vd4",
        "outputId": "17bbf921-919d-4184-952b-92f893f74513"
      },
      "source": [
        "y_hat = model.predict(X).flatten()\r\n",
        "plt.scatter(X, Y)\r\n",
        "plt.plot(X, y_hat)"
      ],
      "execution_count": 34,
      "outputs": [
        {
          "output_type": "execute_result",
          "data": {
            "text/plain": [
              "[<matplotlib.lines.Line2D at 0x7fe137cc1250>]"
            ]
          },
          "metadata": {
            "tags": []
          },
          "execution_count": 34
        },
        {
          "output_type": "display_data",
          "data": {
            "image/png": "[encoded data removed]",
            "text/plain": [
              "<Figure size 432x288 with 1 Axes>"
            ]
          },
          "metadata": {
            "tags": [],
            "needs_background": "light"
          }
        }
      ]
    },
    {
      "cell_type": "code",
      "metadata": {
        "colab": {
          "base_uri": "https://localhost:8080/"
        },
        "id": "6VWziwK17_rO",
        "outputId": "377bd402-cd3a-4161-abb6-e9df93f1563d"
      },
      "source": [
        "# Get the weights\r\n",
        "w, b = model.layers[0].get_weights()\r\n",
        "\r\n",
        "# Reshape X, because it aws flattened before\r\n",
        "X = X.reshape(-1 ,1)\r\n",
        "\r\n",
        "# (N x 1) x (1 x 1) + (1) = (N x 1)\r\n",
        "y_hat2 = (X.dot(w) + b).flatten()\r\n",
        "\r\n",
        "# Verify that y_hat and y_hat2 are close\r\n",
        "np.allclose(y_hat, y_hat2)"
      ],
      "execution_count": 35,
      "outputs": [
        {
          "output_type": "execute_result",
          "data": {
            "text/plain": [
              "True"
            ]
          },
          "metadata": {
            "tags": []
          },
          "execution_count": 35
        }
      ]
    },
    {
      "cell_type": "code",
      "metadata": {
        "id": "r_iJNfGZ8l32"
      },
      "source": [
        "model.save('linear_regressor.h5')"
      ],
      "execution_count": 36,
      "outputs": []
    }
  ]
}