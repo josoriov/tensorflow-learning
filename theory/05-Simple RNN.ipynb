{
  "nbformat": 4,
  "nbformat_minor": 0,
  "metadata": {
    "colab": {
      "name": "05-simple-RNN.ipynb",
      "provenance": [],
      "collapsed_sections": []
    },
    "kernelspec": {
      "name": "python3",
      "display_name": "Python 3"
    },
    "language_info": {
      "name": "python"
    }
  },
  "cells": [
    {
      "cell_type": "code",
      "metadata": {
        "id": "Dvrei-aoqVD8"
      },
      "source": [
        "import numpy as np\n",
        "import pandas as pd\n",
        "import matplotlib.pyplot as plt\n",
        "\n",
        "import tensorflow as tf"
      ],
      "execution_count": 1,
      "outputs": []
    },
    {
      "cell_type": "code",
      "metadata": {
        "colab": {
          "base_uri": "https://localhost:8080/",
          "height": 265
        },
        "id": "I8z2BXacqW86",
        "outputId": "5e540452-80a6-4de1-d2a5-2a7ff902c4f2"
      },
      "source": [
        "# create synthetic data\n",
        "series = np.sin(0.1*np.arange(200)) + (0.1*np.random.randn(200))\n",
        "\n",
        "# visualize the data\n",
        "plt.plot(series)\n",
        "plt.show()"
      ],
      "execution_count": 2,
      "outputs": [
        {
          "output_type": "display_data",
          "data": {
            "image/png": "[encoded data removed]",
            "text/plain": [
              "<Figure size 432x288 with 1 Axes>"
            ]
          },
          "metadata": {
            "tags": [],
            "needs_background": "light"
          }
        }
      ]
    },
    {
      "cell_type": "code",
      "metadata": {
        "id": "9I3vQcI-qZ7N"
      },
      "source": [
        "# Window\n",
        "T = 10\n",
        "D = 1\n",
        "# length of the data\n",
        "n = len(series)"
      ],
      "execution_count": 3,
      "outputs": []
    },
    {
      "cell_type": "code",
      "metadata": {
        "id": "iodPuhn1qe_s"
      },
      "source": [
        "X = []\n",
        "y = []\n",
        "\n",
        "for t in range(0, n - T):\n",
        "    x_t = series[t:t+T]\n",
        "    y_t = series[t+T]\n",
        "    X.append(x_t)\n",
        "    y.append(y_t)\n",
        "\n",
        "X = np.expand_dims(np.array(X), -1)\n",
        "y = np.array(y)"
      ],
      "execution_count": 12,
      "outputs": []
    },
    {
      "cell_type": "code",
      "metadata": {
        "id": "EJvE8exXr0AP"
      },
      "source": [
        "half_split = len(y) // 2\n",
        "\n",
        "X_train, X_test = X[:-half_split], X[-half_split:]\n",
        "y_train, y_test = y[:-half_split], y[-half_split:]"
      ],
      "execution_count": 29,
      "outputs": []
    },
    {
      "cell_type": "code",
      "metadata": {
        "colab": {
          "base_uri": "https://localhost:8080/"
        },
        "id": "-G-6AQDgqf3m",
        "outputId": "c4687e11-df7f-4c67-92e3-39fd743ea081"
      },
      "source": [
        "print(f\"X.shape: {X.shape}, y.shape: {y.shape}\")"
      ],
      "execution_count": 30,
      "outputs": [
        {
          "output_type": "stream",
          "text": [
            "X.shape: (190, 10, 1), y.shape: (190,)\n"
          ],
          "name": "stdout"
        }
      ]
    },
    {
      "cell_type": "code",
      "metadata": {
        "id": "k36D60Mfq959"
      },
      "source": [
        "i = tf.keras.layers.Input(shape=(T, 1))\n",
        "x = tf.keras.layers.SimpleRNN(5, activation='relu') (i)\n",
        "x = tf.keras.layers.Dense(1) (x)\n",
        "\n",
        "model = tf.keras.models.Model(i, x)\n",
        "\n",
        "model.compile(\n",
        "    loss='mse',\n",
        "    optimizer=tf.keras.optimizers.Adam(learning_rate=0.1)\n",
        ")"
      ],
      "execution_count": 31,
      "outputs": []
    },
    {
      "cell_type": "code",
      "metadata": {
        "colab": {
          "base_uri": "https://localhost:8080/"
        },
        "id": "bCkn03y6rsF1",
        "outputId": "96e7238d-8443-4aea-80a3-1c65e27cee61"
      },
      "source": [
        "fit_object = model.fit(\n",
        "    X_train, y_train,\n",
        "    epochs=80,\n",
        "    validation_data=(X_test, y_test)\n",
        ")"
      ],
      "execution_count": 32,
      "outputs": [
        {
          "output_type": "stream",
          "text": [
            "Epoch 1/80\n",
            "3/3 [==============================] - 1s 124ms/step - loss: 4.5761 - val_loss: 0.3289\n",
            "Epoch 2/80\n",
            "3/3 [==============================] - 0s 26ms/step - loss: 0.4609 - val_loss: 0.3086\n",
            "Epoch 3/80\n",
            "3/3 [==============================] - 0s 27ms/step - loss: 0.4473 - val_loss: 0.2369\n",
            "Epoch 4/80\n",
            "3/3 [==============================] - 0s 28ms/step - loss: 0.3816 - val_loss: 0.1703\n",
            "Epoch 5/80\n",
            "3/3 [==============================] - 0s 26ms/step - loss: 0.2419 - val_loss: 0.1390\n",
            "Epoch 6/80\n",
            "3/3 [==============================] - 0s 27ms/step - loss: 0.2060 - val_loss: 0.1003\n",
            "Epoch 7/80\n",
            "3/3 [==============================] - 0s 28ms/step - loss: 0.1624 - val_loss: 0.0869\n",
            "Epoch 8/80\n",
            "3/3 [==============================] - 0s 26ms/step - loss: 0.1090 - val_loss: 0.0420\n",
            "Epoch 9/80\n",
            "3/3 [==============================] - 0s 28ms/step - loss: 0.0705 - val_loss: 0.0308\n",
            "Epoch 10/80\n",
            "3/3 [==============================] - 0s 26ms/step - loss: 0.0504 - val_loss: 0.0323\n",
            "Epoch 11/80\n",
            "3/3 [==============================] - 0s 26ms/step - loss: 0.0408 - val_loss: 0.0240\n",
            "Epoch 12/80\n",
            "3/3 [==============================] - 0s 25ms/step - loss: 0.0336 - val_loss: 0.0277\n",
            "Epoch 13/80\n",
            "3/3 [==============================] - 0s 32ms/step - loss: 0.0332 - val_loss: 0.0227\n",
            "Epoch 14/80\n",
            "3/3 [==============================] - 0s 28ms/step - loss: 0.0276 - val_loss: 0.0240\n",
            "Epoch 15/80\n",
            "3/3 [==============================] - 0s 27ms/step - loss: 0.0292 - val_loss: 0.0204\n",
            "Epoch 16/80\n",
            "3/3 [==============================] - 0s 27ms/step - loss: 0.0293 - val_loss: 0.0231\n",
            "Epoch 17/80\n",
            "3/3 [==============================] - 0s 30ms/step - loss: 0.0324 - val_loss: 0.0201\n",
            "Epoch 18/80\n",
            "3/3 [==============================] - 0s 32ms/step - loss: 0.0270 - val_loss: 0.0240\n",
            "Epoch 19/80\n",
            "3/3 [==============================] - 0s 28ms/step - loss: 0.0248 - val_loss: 0.0197\n",
            "Epoch 20/80\n",
            "3/3 [==============================] - 0s 26ms/step - loss: 0.0221 - val_loss: 0.0246\n",
            "Epoch 21/80\n",
            "3/3 [==============================] - 0s 28ms/step - loss: 0.0251 - val_loss: 0.0194\n",
            "Epoch 22/80\n",
            "3/3 [==============================] - 0s 27ms/step - loss: 0.0260 - val_loss: 0.0193\n",
            "Epoch 23/80\n",
            "3/3 [==============================] - 0s 27ms/step - loss: 0.0260 - val_loss: 0.0210\n",
            "Epoch 24/80\n",
            "3/3 [==============================] - 0s 30ms/step - loss: 0.0259 - val_loss: 0.0191\n",
            "Epoch 25/80\n",
            "3/3 [==============================] - 0s 27ms/step - loss: 0.0259 - val_loss: 0.0188\n",
            "Epoch 26/80\n",
            "3/3 [==============================] - 0s 27ms/step - loss: 0.0274 - val_loss: 0.0244\n",
            "Epoch 27/80\n",
            "3/3 [==============================] - 0s 31ms/step - loss: 0.0292 - val_loss: 0.0196\n",
            "Epoch 28/80\n",
            "3/3 [==============================] - 0s 29ms/step - loss: 0.0239 - val_loss: 0.0193\n",
            "Epoch 29/80\n",
            "3/3 [==============================] - 0s 28ms/step - loss: 0.0276 - val_loss: 0.0284\n",
            "Epoch 30/80\n",
            "3/3 [==============================] - 0s 26ms/step - loss: 0.0289 - val_loss: 0.0311\n",
            "Epoch 31/80\n",
            "3/3 [==============================] - 0s 27ms/step - loss: 0.0404 - val_loss: 0.0312\n",
            "Epoch 32/80\n",
            "3/3 [==============================] - 0s 28ms/step - loss: 0.0317 - val_loss: 0.0231\n",
            "Epoch 33/80\n",
            "3/3 [==============================] - 0s 27ms/step - loss: 0.0341 - val_loss: 0.0236\n",
            "Epoch 34/80\n",
            "3/3 [==============================] - 0s 29ms/step - loss: 0.0303 - val_loss: 0.0204\n",
            "Epoch 35/80\n",
            "3/3 [==============================] - 0s 26ms/step - loss: 0.0284 - val_loss: 0.0192\n",
            "Epoch 36/80\n",
            "3/3 [==============================] - 0s 27ms/step - loss: 0.0240 - val_loss: 0.0285\n",
            "Epoch 37/80\n",
            "3/3 [==============================] - 0s 33ms/step - loss: 0.0319 - val_loss: 0.0197\n",
            "Epoch 38/80\n",
            "3/3 [==============================] - 0s 28ms/step - loss: 0.0299 - val_loss: 0.0238\n",
            "Epoch 39/80\n",
            "3/3 [==============================] - 0s 32ms/step - loss: 0.0306 - val_loss: 0.0195\n",
            "Epoch 40/80\n",
            "3/3 [==============================] - 0s 26ms/step - loss: 0.0234 - val_loss: 0.0246\n",
            "Epoch 41/80\n",
            "3/3 [==============================] - 0s 27ms/step - loss: 0.0265 - val_loss: 0.0196\n",
            "Epoch 42/80\n",
            "3/3 [==============================] - 0s 27ms/step - loss: 0.0277 - val_loss: 0.0225\n",
            "Epoch 43/80\n",
            "3/3 [==============================] - 0s 32ms/step - loss: 0.0268 - val_loss: 0.0191\n",
            "Epoch 44/80\n",
            "3/3 [==============================] - 0s 33ms/step - loss: 0.0272 - val_loss: 0.0197\n",
            "Epoch 45/80\n",
            "3/3 [==============================] - 0s 27ms/step - loss: 0.0288 - val_loss: 0.0190\n",
            "Epoch 46/80\n",
            "3/3 [==============================] - 0s 28ms/step - loss: 0.0247 - val_loss: 0.0191\n",
            "Epoch 47/80\n",
            "3/3 [==============================] - 0s 32ms/step - loss: 0.0316 - val_loss: 0.0218\n",
            "Epoch 48/80\n",
            "3/3 [==============================] - 0s 27ms/step - loss: 0.0275 - val_loss: 0.0208\n",
            "Epoch 49/80\n",
            "3/3 [==============================] - 0s 26ms/step - loss: 0.0260 - val_loss: 0.0360\n",
            "Epoch 50/80\n",
            "3/3 [==============================] - 0s 29ms/step - loss: 0.0266 - val_loss: 0.0249\n",
            "Epoch 51/80\n",
            "3/3 [==============================] - 0s 30ms/step - loss: 0.0297 - val_loss: 0.0238\n",
            "Epoch 52/80\n",
            "3/3 [==============================] - 0s 25ms/step - loss: 0.0281 - val_loss: 0.0193\n",
            "Epoch 53/80\n",
            "3/3 [==============================] - 0s 27ms/step - loss: 0.0279 - val_loss: 0.0193\n",
            "Epoch 54/80\n",
            "3/3 [==============================] - 0s 28ms/step - loss: 0.0233 - val_loss: 0.0211\n",
            "Epoch 55/80\n",
            "3/3 [==============================] - 0s 30ms/step - loss: 0.0256 - val_loss: 0.0211\n",
            "Epoch 56/80\n",
            "3/3 [==============================] - 0s 27ms/step - loss: 0.0283 - val_loss: 0.0235\n",
            "Epoch 57/80\n",
            "3/3 [==============================] - 0s 27ms/step - loss: 0.0284 - val_loss: 0.0211\n",
            "Epoch 58/80\n",
            "3/3 [==============================] - 0s 28ms/step - loss: 0.0333 - val_loss: 0.0200\n",
            "Epoch 59/80\n",
            "3/3 [==============================] - 0s 28ms/step - loss: 0.0336 - val_loss: 0.0194\n",
            "Epoch 60/80\n",
            "3/3 [==============================] - 0s 26ms/step - loss: 0.0299 - val_loss: 0.0190\n",
            "Epoch 61/80\n",
            "3/3 [==============================] - 0s 28ms/step - loss: 0.0299 - val_loss: 0.0230\n",
            "Epoch 62/80\n",
            "3/3 [==============================] - 0s 28ms/step - loss: 0.0264 - val_loss: 0.0200\n",
            "Epoch 63/80\n",
            "3/3 [==============================] - 0s 28ms/step - loss: 0.0266 - val_loss: 0.0222\n",
            "Epoch 64/80\n",
            "3/3 [==============================] - 0s 29ms/step - loss: 0.0272 - val_loss: 0.0187\n",
            "Epoch 65/80\n",
            "3/3 [==============================] - 0s 31ms/step - loss: 0.0255 - val_loss: 0.0184\n",
            "Epoch 66/80\n",
            "3/3 [==============================] - 0s 26ms/step - loss: 0.0249 - val_loss: 0.0214\n",
            "Epoch 67/80\n",
            "3/3 [==============================] - 0s 29ms/step - loss: 0.0248 - val_loss: 0.0199\n",
            "Epoch 68/80\n",
            "3/3 [==============================] - 0s 26ms/step - loss: 0.0274 - val_loss: 0.0225\n",
            "Epoch 69/80\n",
            "3/3 [==============================] - 0s 26ms/step - loss: 0.0270 - val_loss: 0.0204\n",
            "Epoch 70/80\n",
            "3/3 [==============================] - 0s 34ms/step - loss: 0.0294 - val_loss: 0.0215\n",
            "Epoch 71/80\n",
            "3/3 [==============================] - 0s 28ms/step - loss: 0.0298 - val_loss: 0.0189\n",
            "Epoch 72/80\n",
            "3/3 [==============================] - 0s 27ms/step - loss: 0.0249 - val_loss: 0.0191\n",
            "Epoch 73/80\n",
            "3/3 [==============================] - 0s 28ms/step - loss: 0.0260 - val_loss: 0.0254\n",
            "Epoch 74/80\n",
            "3/3 [==============================] - 0s 32ms/step - loss: 0.0318 - val_loss: 0.0182\n",
            "Epoch 75/80\n",
            "3/3 [==============================] - 0s 30ms/step - loss: 0.0247 - val_loss: 0.0193\n",
            "Epoch 76/80\n",
            "3/3 [==============================] - 0s 27ms/step - loss: 0.0238 - val_loss: 0.0187\n",
            "Epoch 77/80\n",
            "3/3 [==============================] - 0s 28ms/step - loss: 0.0210 - val_loss: 0.0247\n",
            "Epoch 78/80\n",
            "3/3 [==============================] - 0s 28ms/step - loss: 0.0267 - val_loss: 0.0198\n",
            "Epoch 79/80\n",
            "3/3 [==============================] - 0s 29ms/step - loss: 0.0259 - val_loss: 0.0230\n",
            "Epoch 80/80\n",
            "3/3 [==============================] - 0s 26ms/step - loss: 0.0272 - val_loss: 0.0177\n"
          ],
          "name": "stdout"
        }
      ]
    },
    {
      "cell_type": "code",
      "metadata": {
        "colab": {
          "base_uri": "https://localhost:8080/",
          "height": 282
        },
        "id": "MK_w1Rlas4vR",
        "outputId": "38aa5549-2847-4d89-fce4-8b380244f82a"
      },
      "source": [
        "plt.plot(fit_object.history['loss'], label='loss')\n",
        "plt.plot(fit_object.history['val_loss'], label='val_loss')\n",
        "plt.legend()"
      ],
      "execution_count": 33,
      "outputs": [
        {
          "output_type": "execute_result",
          "data": {
            "text/plain": [
              "<matplotlib.legend.Legend at 0x7fcb024320d0>"
            ]
          },
          "metadata": {
            "tags": []
          },
          "execution_count": 33
        },
        {
          "output_type": "display_data",
          "data": {
            "image/png": "[encoded data removed]",
            "text/plain": [
              "<Figure size 432x288 with 1 Axes>"
            ]
          },
          "metadata": {
            "tags": [],
            "needs_background": "light"
          }
        }
      ]
    },
    {
      "cell_type": "code",
      "metadata": {
        "colab": {
          "base_uri": "https://localhost:8080/"
        },
        "id": "ZgBVVI5EtFjV",
        "outputId": "fae58048-f7d8-45b7-e608-224f54a71cdf"
      },
      "source": [
        "X_test[-1].reshape(1,-1, 1).shape"
      ],
      "execution_count": 42,
      "outputs": [
        {
          "output_type": "execute_result",
          "data": {
            "text/plain": [
              "(1, 10, 1)"
            ]
          },
          "metadata": {
            "tags": []
          },
          "execution_count": 42
        }
      ]
    },
    {
      "cell_type": "code",
      "metadata": {
        "colab": {
          "base_uri": "https://localhost:8080/"
        },
        "id": "i8leh5RmuPn8",
        "outputId": "0bb00a5b-9f4c-4a0b-db08-4c53d3ec9a0b"
      },
      "source": [
        "X_test.shape"
      ],
      "execution_count": 41,
      "outputs": [
        {
          "output_type": "execute_result",
          "data": {
            "text/plain": [
              "(95, 10, 1)"
            ]
          },
          "metadata": {
            "tags": []
          },
          "execution_count": 41
        }
      ]
    },
    {
      "cell_type": "code",
      "metadata": {
        "id": "PvLI7J-BucVg"
      },
      "source": [
        "# !TODO take a closer look at this code\n",
        "# it works but I'm not sure why\n",
        "validation_target = y_test\n",
        "validation_predictions = []\n",
        "\n",
        "i = -half_split\n",
        "\n",
        "while len(validation_predictions) < len(validation_target):\n",
        "    p = model.predict(X[i].reshape(1,-1,1))[0,0]\n",
        "    i += 1\n",
        "\n",
        "    validation_predictions.append(p)"
      ],
      "execution_count": 43,
      "outputs": []
    },
    {
      "cell_type": "code",
      "metadata": {
        "colab": {
          "base_uri": "https://localhost:8080/",
          "height": 282
        },
        "id": "q_kWZu9xvAU5",
        "outputId": "de14bd3f-8ca2-4705-909d-6643e9958bb5"
      },
      "source": [
        "# differences between target and prediction\n",
        "plt.plot(validation_target, label='forecast target')\n",
        "plt.plot(validation_predictions, label='forecast prediction')\n",
        "plt.legend()"
      ],
      "execution_count": 44,
      "outputs": [
        {
          "output_type": "execute_result",
          "data": {
            "text/plain": [
              "<matplotlib.legend.Legend at 0x7fcb02360610>"
            ]
          },
          "metadata": {
            "tags": []
          },
          "execution_count": 44
        },
        {
          "output_type": "display_data",
          "data": {
            "image/png": "[encoded data removed]",
            "text/plain": [
              "<Figure size 432x288 with 1 Axes>"
            ]
          },
          "metadata": {
            "tags": [],
            "needs_background": "light"
          }
        }
      ]
    },
    {
      "cell_type": "code",
      "metadata": {
        "id": "tgJ3gnCn7YfO"
      },
      "source": [
        "# create the model: input, SimpleRNN (act=None), Dense\n",
        "# compile the model with mse and adam(lr=0.1) epochs=80\n",
        "# Fit the model to the train data, validate on test data\n",
        "# Forecast and see how it looks "
      ],
      "execution_count": null,
      "outputs": []
    }
  ]
}